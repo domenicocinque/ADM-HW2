{
 "cells": [
  {
   "cell_type": "code",
   "execution_count": 7,
   "metadata": {},
   "outputs": [],
   "source": [
    "# import modules\n",
    "\n",
    "import pandas as pd\n",
    "import numpy as np\n",
    "import matplotlib.pyplot as plt"
   ]
  },
  {
   "cell_type": "code",
   "execution_count": 2,
   "metadata": {},
   "outputs": [],
   "source": [
    "# read data\n",
    "\n",
    "df = pd.read_pickle('Data.RQ4')"
   ]
  },
  {
   "cell_type": "code",
   "execution_count": 3,
   "metadata": {},
   "outputs": [
    {
     "name": "stderr",
     "output_type": "stream",
     "text": [
      "/usr/local/lib/python3.8/dist-packages/pandas/core/arrays/datetimes.py:1088: UserWarning: Converting to PeriodArray/Index representation will drop timezone information.\n",
      "  warnings.warn(\n"
     ]
    }
   ],
   "source": [
    "#filter event_type 'purchase' only, drop rows without a brand name, convert event_time to string ([year,month] format). This last operation helps when we will use [year,month] as a column name, because a column named with a Datetime Object is harder to access than a column whose name is a string \n",
    "\n",
    "purchases = df[df['event_type']=='purchase']\n",
    "purchases = purchases.dropna(subset=['brand'])\n",
    "purchases['brand'] = purchases['brand'].astype('string')\n",
    "purchases['event_time'] = purchases.event_time.dt.to_period(\"M\")\n",
    "purchases['event_time'] = purchases.event_time.dt.strftime('%Y-%m')"
   ]
  },
  {
   "cell_type": "code",
   "execution_count": 17,
   "metadata": {},
   "outputs": [],
   "source": [
    "# compute the average price of products, using an histogram to describe the result (simple version, assumes that the price of a product stays the same)\n",
    "df['event_time'] = df.event_time.dt.normalize()"
   ]
  },
  {
   "cell_type": "code",
   "execution_count": 18,
   "metadata": {},
   "outputs": [],
   "source": [
    "df_unique_products = df.drop_duplicates(subset=['product_id','event_time'])"
   ]
  },
  {
   "cell_type": "code",
   "execution_count": 19,
   "metadata": {},
   "outputs": [],
   "source": [
    "df_unique_products = df_unique_products.groupby('product_id').price.mean().to_frame().reset_index().rename(columns = {'price': 'mean_price'})"
   ]
  },
  {
   "cell_type": "code",
   "execution_count": 20,
   "metadata": {},
   "outputs": [],
   "source": [
    "df = df.drop_duplicates(subset=['product_id'])"
   ]
  },
  {
   "cell_type": "code",
   "execution_count": 21,
   "metadata": {},
   "outputs": [],
   "source": [
    "df = pd.merge(df,df_unique_products, left_on=['product_id'], right_on=['product_id'])"
   ]
  },
  {
   "cell_type": "code",
   "execution_count": 22,
   "metadata": {},
   "outputs": [],
   "source": [
    "df = df.groupby('brand').mean_price.mean()"
   ]
  },
  {
   "cell_type": "code",
   "execution_count": 23,
   "metadata": {},
   "outputs": [
    {
     "data": {
      "image/png": "[encoded data removed]",
      "text/plain": [
       "<Figure size 576x288 with 1 Axes>"
      ]
     },
     "metadata": {
      "needs_background": "light"
     },
     "output_type": "display_data"
    }
   ],
   "source": [
    "fig = plt.figure()\n",
    "fig.set_figheight(4)\n",
    "fig.set_figwidth(8)\n",
    "ax = fig.add_axes([0,0,1,1])\n",
    "ax.hist(df, bins= 100)\n",
    "plt.title('Average price of products')\n",
    "plt.xlabel('avg_price')\n",
    "plt.show()"
   ]
  },
  {
   "cell_type": "code",
   "execution_count": 24,
   "metadata": {},
   "outputs": [],
   "source": [
    "#calls a function that prompts the user to enter a brand name, returns a table\n",
    "\n",
    "def my_funct(df, mode = 0):\n",
    "    '''\n",
    "    mode = 0 : takes a DataFrame, asks to input a brand and returns a table showing its profit for each month\n",
    "   \n",
    "\n",
    "    mode = 1 : takes a DataFrame, returns the 3 brands with the worst losses between two months\n",
    "    '''\n",
    "    if mode == 0:\n",
    "        brand = input('Select a brand:\\n')\n",
    "        brand_df = df.loc[df['brand'] == brand]\n",
    "        profit_df = brand_df.groupby('event_time')['price'].sum().reset_index()\n",
    "        #profit_df = brand_df.groupby(by = [brand_df.event_time.dt.year, brand_df.event_time.dt.month])['price'].sum().rename_axis(['year', 'month']).reset_index()\n",
    "        profit_df = profit_df.rename(columns={'price': 'profit'})\n",
    "        return profit_df\n",
    "    elif mode == 1:\n",
    "        months = df.event_time.unique()\n",
    "        profit_delta = pd.pivot_table(df, values='price', index=['brand'], columns=[df.event_time], aggfunc=np.sum).reset_index()\n",
    "        profit_delta.fillna(0, inplace=True)\n",
    "        total_df =[]\n",
    "        for i in range(1,len(months)):\n",
    "            temp_df = profit_delta\n",
    "            temp_df['delta_num'] = temp_df[months[i]] - temp_df[months[i-1]]\n",
    "            temp_df['delta_perc'] = temp_df['delta_num'] / temp_df[months[i-1]]\n",
    "            temp_df.replace([np.inf], 1, inplace=True)\n",
    "            temp_df.replace([np.nan], 0, inplace=True)\n",
    "            temp_df = temp_df.sort_values(by=['delta_num','delta_perc'], ascending=True)[:3]\n",
    "            temp_df= temp_df.assign(start_month = (months[i-1]))\n",
    "            temp_df= temp_df.assign(end_month = (months[i]))\n",
    "            total_df.append(temp_df)\n",
    "        total_df = pd.concat(total_df, axis=0, ignore_index=True)\n",
    "        total_df = total_df.sort_values(by=['delta_num','delta_perc'], ascending=True)\n",
    "        total_df = total_df.drop_duplicates(subset=['brand'], keep = 'first')[:3]\n",
    "        for index, row in total_df.iterrows():\n",
    "            print('brand {0} lost {1:.2%} between {2} and {3}, for a value of {4:,}'.format(row['brand'], -1*row['delta_perc'],row['start_month'],row['end_month'],round(row['delta_num'],2)), end='\\n')"
   ]
  },
  {
   "cell_type": "code",
   "execution_count": 5,
   "metadata": {},
   "outputs": [
    {
     "name": "stdout",
     "output_type": "stream",
     "text": [
      "Select a brand:\n",
      "samsung\n"
     ]
    },
    {
     "data": {
      "text/html": [
       "<div>\n",
       "<style scoped>\n",
       "    .dataframe tbody tr th:only-of-type {\n",
       "        vertical-align: middle;\n",
       "    }\n",
       "\n",
       "    .dataframe tbody tr th {\n",
       "        vertical-align: top;\n",
       "    }\n",
       "\n",
       "    .dataframe thead th {\n",
       "        text-align: right;\n",
       "    }\n",
       "</style>\n",
       "<table border=\"1\" class=\"dataframe\">\n",
       "  <thead>\n",
       "    <tr style=\"text-align: right;\">\n",
       "      <th></th>\n",
       "      <th>event_time</th>\n",
       "      <th>profit</th>\n",
       "    </tr>\n",
       "  </thead>\n",
       "  <tbody>\n",
       "    <tr>\n",
       "      <th>0</th>\n",
       "      <td>2019-10</td>\n",
       "      <td>46407532.0</td>\n",
       "    </tr>\n",
       "    <tr>\n",
       "      <th>1</th>\n",
       "      <td>2019-11</td>\n",
       "      <td>54869880.0</td>\n",
       "    </tr>\n",
       "    <tr>\n",
       "      <th>2</th>\n",
       "      <td>2019-12</td>\n",
       "      <td>71858808.0</td>\n",
       "    </tr>\n",
       "    <tr>\n",
       "      <th>3</th>\n",
       "      <td>2020-01</td>\n",
       "      <td>55786628.0</td>\n",
       "    </tr>\n",
       "    <tr>\n",
       "      <th>4</th>\n",
       "      <td>2020-02</td>\n",
       "      <td>74269248.0</td>\n",
       "    </tr>\n",
       "    <tr>\n",
       "      <th>5</th>\n",
       "      <td>2020-03</td>\n",
       "      <td>65440260.0</td>\n",
       "    </tr>\n",
       "    <tr>\n",
       "      <th>6</th>\n",
       "      <td>2020-04</td>\n",
       "      <td>56791600.0</td>\n",
       "    </tr>\n",
       "  </tbody>\n",
       "</table>\n",
       "</div>"
      ],
      "text/plain": [
       "  event_time      profit\n",
       "0    2019-10  46407532.0\n",
       "1    2019-11  54869880.0\n",
       "2    2019-12  71858808.0\n",
       "3    2020-01  55786628.0\n",
       "4    2020-02  74269248.0\n",
       "5    2020-03  65440260.0\n",
       "6    2020-04  56791600.0"
      ]
     },
     "execution_count": 5,
     "metadata": {},
     "output_type": "execute_result"
    }
   ],
   "source": [
    "my_funct(purchases, mode = 0)"
   ]
  },
  {
   "cell_type": "code",
   "execution_count": 25,
   "metadata": {},
   "outputs": [
    {
     "name": "stdout",
     "output_type": "stream",
     "text": [
      "brand apple lost 47.43% between 2020-03 and 2020-04, for a value of -67,027,280.0\n",
      "brand samsung lost 22.37% between 2019-12 and 2020-01, for a value of -16,072,180.0\n",
      "brand xiaomi lost 29.05% between 2020-02 and 2020-03, for a value of -5,142,528.0\n"
     ]
    }
   ],
   "source": [
    "my_funct(purchases, mode = 1)"
   ]
  },
  {
   "cell_type": "code",
   "execution_count": null,
   "metadata": {},
   "outputs": [],
   "source": []
  }
 ],
 "metadata": {
  "kernelspec": {
   "display_name": "Python 3",
   "language": "python",
   "name": "python3"
  }
 },
 "nbformat": 4,
 "nbformat_minor": 4
}
