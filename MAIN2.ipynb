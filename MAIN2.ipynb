{
 "cells": [
  {
   "cell_type": "markdown",
   "metadata": {},
   "source": [
    "# Homework 2 - eCommerce analytics\n",
    "--------"
   ]
  },
  {
   "cell_type": "markdown",
   "metadata": {},
   "source": [
    "### Imports"
   ]
  },
  {
   "cell_type": "code",
   "execution_count": 1,
   "metadata": {},
   "outputs": [],
   "source": [
    "import pandas as pd\n",
    "import matplotlib.pyplot as plt\n",
    "import seaborn as sns"
   ]
  },
  {
   "cell_type": "markdown",
   "metadata": {},
   "source": [
    "# [RQ1] Customer’s journey "
   ]
  },
  {
   "cell_type": "markdown",
   "metadata": {},
   "source": [
    "-------------"
   ]
  },
  {
   "cell_type": "markdown",
   "metadata": {},
   "source": [
    "### Which is the rate of complete funnels? "
   ]
  },
  {
   "cell_type": "code",
   "execution_count": 2,
   "metadata": {},
   "outputs": [],
   "source": [
    "df = pd.read_pickle(\"Data.RQ1B\")"
   ]
  },
  {
   "cell_type": "code",
   "execution_count": 4,
   "metadata": {},
   "outputs": [],
   "source": [
    "%reset -f"
   ]
  },
  {
   "cell_type": "code",
   "execution_count": 108,
   "metadata": {},
   "outputs": [],
   "source": [
    "# Ragionamento per intersezione?"
   ]
  },
  {
   "cell_type": "markdown",
   "metadata": {},
   "source": [
    "### What’s the operation users repeat more on average within a session?"
   ]
  },
  {
   "cell_type": "code",
   "execution_count": 6,
   "metadata": {},
   "outputs": [],
   "source": [
    "import pandas as pd\n",
    "import matplotlib.pyplot as plt\n",
    "import seaborn as sns\n",
    "df = pd.read_pickle(\"Data.RQ1B\")"
   ]
  },
  {
   "cell_type": "code",
   "execution_count": 7,
   "metadata": {},
   "outputs": [],
   "source": [
    "event_series = df.groupby('event_type').event_type.count().to_frame('number_of_events').reset_index()\n",
    "n = df['user_session'].nunique()"
   ]
  },
  {
   "cell_type": "code",
   "execution_count": 8,
   "metadata": {},
   "outputs": [],
   "source": [
    "event_series['avg_events'] = event_series.apply(lambda row: row.number_of_events /n, axis=1)"
   ]
  },
  {
   "cell_type": "code",
   "execution_count": 9,
   "metadata": {},
   "outputs": [
    {
     "data": {
      "image/png": "[encoded data removed]",
      "text/plain": [
       "<Figure size 1296x648 with 1 Axes>"
      ]
     },
     "metadata": {
      "needs_background": "light"
     },
     "output_type": "display_data"
    }
   ],
   "source": [
    "fig = plt.figure(figsize=(18,9))\n",
    "plot = sns.barplot(x='event_type', y='avg_events', data=event_series)"
   ]
  },
  {
   "cell_type": "markdown",
   "metadata": {},
   "source": [
    "As we could have expected, the views are by far the most repeated operation. We think that is because, in order to perform a cart or purchase operation a customer might has inevitably view the product."
   ]
  },
  {
   "cell_type": "markdown",
   "metadata": {},
   "source": [
    "### How many times, on average, a user views a product before adding it to the cart?"
   ]
  },
  {
   "cell_type": "markdown",
   "metadata": {},
   "source": [
    "This analysis could have been performed in two ways: by computing the average number of views before every effectively bought article or, as we did, by computing the ratio between the number of `view` and the number of `cart` events. We think that including products that aren't bought provides us a more truthful insight on the number of views that are needed before we have a `cart` event. "
   ]
  },
  {
   "cell_type": "code",
   "execution_count": 10,
   "metadata": {},
   "outputs": [
    {
     "name": "stdout",
     "output_type": "stream",
     "text": [
      "On average, products are seen 22.0 times before they are added to the cart.\n"
     ]
    }
   ],
   "source": [
    "nviews = int(event_series[event_series.event_type == 'view']['number_of_events'])\n",
    "ncarts = int(event_series[event_series.event_type == 'cart']['number_of_events'])\n",
    "print('On average, products are seen', round(nviews/ncarts,3),'times before they are added to the cart.')"
   ]
  },
  {
   "cell_type": "markdown",
   "metadata": {},
   "source": [
    "### What’s the probability that products added once to the cart are effectively bought?"
   ]
  },
  {
   "cell_type": "markdown",
   "metadata": {},
   "source": [
    "We make the same assumptions as before, so we compute an average probability."
   ]
  },
  {
   "cell_type": "code",
   "execution_count": 11,
   "metadata": {},
   "outputs": [
    {
     "name": "stdout",
     "output_type": "stream",
     "text": [
      "The probability is estimated as: 0.366\n"
     ]
    }
   ],
   "source": [
    "npurchases = int(event_series[event_series.event_type == 'purchase']['number_of_events'])\n",
    "print('The probability is estimated as:', round(npurchases/ncarts,4))\n",
    "del event_series"
   ]
  },
  {
   "cell_type": "markdown",
   "metadata": {},
   "source": [
    "### What’s the average time an item stays in the cart before being removed?"
   ]
  },
  {
   "cell_type": "markdown",
   "metadata": {},
   "source": [
    "In order to give an answer to this question we would need the `remove_from_cart` event in the `event_type` column. We  can give an approximate answer to this question by considering the `purchase` event as a removal from the cart. This is done in the next question. "
   ]
  },
  {
   "cell_type": "markdown",
   "metadata": {},
   "source": [
    "### How much time passes on average between the first view time and a purchase/addition to cart?"
   ]
  },
  {
   "cell_type": "markdown",
   "metadata": {},
   "source": [
    "For every unique `user_id`-`product_id` couple, we consider first the time that passes between the firt view and the first cart, then the time from the first cart to the first purchase."
   ]
  },
  {
   "cell_type": "code",
   "execution_count": 4,
   "metadata": {},
   "outputs": [],
   "source": [
    "%reset -f\n",
    "import pandas as pd\n",
    "import matplotlib.pyplot as plt\n",
    "import seaborn as sns\n",
    "df = pd.read_pickle(\"Data.RQ1A\")"
   ]
  },
  {
   "cell_type": "code",
   "execution_count": 2,
   "metadata": {},
   "outputs": [],
   "source": [
    "# Creating subsets\n",
    "views = df[df.event_type == 'view']\n",
    "carts = df[df.event_type == 'cart']\n",
    "purchases = df[df.event_type == 'purchase']\n",
    "\n",
    "del df"
   ]
  },
  {
   "cell_type": "code",
   "execution_count": null,
   "metadata": {},
   "outputs": [],
   "source": [
    "# Grouping and getting first event for each type\n",
    "first_view = (df[df.event_type == 'view']).groupby(['user_id','product_id']).event_time.first().reset_index()\n",
    "del views\n",
    "\n",
    "first_cart = (df[df.event_type == 'cart']).groupby(['user_id','product_id']).event_time.first().reset_index()\n",
    "del carts\n",
    "\n",
    "first_purchase = (df[df.event_type == 'purchase']).groupby(['user_id','product_id']).event_time.first().reset_index()\n",
    "del purchases"
   ]
  },
  {
   "cell_type": "code",
   "execution_count": null,
   "metadata": {},
   "outputs": [],
   "source": [
    "# Merging in order to have first view/cart and cart/purchase in the same table\n",
    "\n",
    "delta_views_carts = first_view.merge(first_cart , on=['user_id','product_id'])\n",
    "delta_carts_purchases = first_cart.merge(first_purchase , on=['user_id','product_id'])\n",
    "del first_view, first_cart, first_purchase\n",
    "\n",
    "# Renaming columns\n",
    "colnames = ['user_id','product_id','t1','t2']\n",
    "delta_views_carts.columns = colnames\n",
    "delta_carts_purchases.columns = colnames"
   ]
  },
  {
   "cell_type": "code",
   "execution_count": null,
   "metadata": {},
   "outputs": [],
   "source": [
    "# Computing deltas and averages\n",
    "\n",
    "delta_views_carts['delta'] = delta_views_carts.apply(lambda row: row.t2 - row.t1, axis = 1)\n",
    "t = delta_views_carts['delta'].mean()\n",
    "print('The average time between the first view and the first cart is:', t)\n",
    "del delta_views_carts\n",
    "\n",
    "delta_carts_purchases['delta'] = delta_carts_purchases.apply(lambda row: row.t2 - row.t1, axis = 1)\n",
    "t = delta_carts_purchases['delta'].mean()\n",
    "print('The average time between the first cart and the first purchase is:', t)\n",
    "del delta_carts_purchases"
   ]
  },
  {
   "cell_type": "markdown",
   "metadata": {},
   "source": [
    "We can see that the average time between first cart and first purhcase is smaller, so the users are more inclined to complete a purchase once the product is in their cart while it takes more time, in average, to decide to put an item in the cart."
   ]
  },
  {
   "cell_type": "markdown",
   "metadata": {},
   "source": [
    "# [RQ2] Sold products per category"
   ]
  },
  {
   "cell_type": "code",
   "execution_count": null,
   "metadata": {},
   "outputs": [],
   "source": []
  },
  {
   "cell_type": "markdown",
   "metadata": {},
   "source": [
    "---------"
   ]
  },
  {
   "cell_type": "code",
   "execution_count": null,
   "metadata": {},
   "outputs": [],
   "source": []
  },
  {
   "cell_type": "markdown",
   "metadata": {},
   "source": [
    "# [RQ3] Categories prices"
   ]
  },
  {
   "cell_type": "markdown",
   "metadata": {},
   "source": [
    "-------"
   ]
  },
  {
   "cell_type": "code",
   "execution_count": null,
   "metadata": {},
   "outputs": [],
   "source": []
  },
  {
   "cell_type": "markdown",
   "metadata": {},
   "source": [
    "# [RQ4] How much does each brand earn per month?"
   ]
  },
  {
   "cell_type": "markdown",
   "metadata": {},
   "source": [
    "------"
   ]
  },
  {
   "cell_type": "code",
   "execution_count": null,
   "metadata": {},
   "outputs": [],
   "source": []
  },
  {
   "cell_type": "markdown",
   "metadata": {},
   "source": [
    "# [RQ5] Hourly average visitors "
   ]
  },
  {
   "cell_type": "markdown",
   "metadata": {},
   "source": [
    "-------"
   ]
  },
  {
   "cell_type": "code",
   "execution_count": null,
   "metadata": {},
   "outputs": [],
   "source": []
  },
  {
   "cell_type": "markdown",
   "metadata": {},
   "source": [
    "# [RQ6] Conversion rate"
   ]
  },
  {
   "cell_type": "markdown",
   "metadata": {},
   "source": [
    "--------"
   ]
  },
  {
   "cell_type": "markdown",
   "metadata": {},
   "source": [
    "### Find the overall conversion rate of your store.\n"
   ]
  },
  {
   "cell_type": "markdown",
   "metadata": {},
   "source": [
    "In this task we search for the overall conversion rate of the store i.e. the number of times a product has been bought over the number of times it has been visited."
   ]
  },
  {
   "cell_type": "code",
   "execution_count": 45,
   "metadata": {},
   "outputs": [],
   "source": [
    "import pandas as pd\n",
    "import matplotlib.pyplot as plt\n",
    "import seaborn as sns\n",
    "df = pd.read_pickle(\"Data.RQ6\")"
   ]
  },
  {
   "cell_type": "code",
   "execution_count": 46,
   "metadata": {},
   "outputs": [],
   "source": [
    "# Creating subsets\n",
    "\n",
    "views = df[df.event_type == 'view']\n",
    "purchases = df[df.event_type == 'purchase']"
   ]
  },
  {
   "cell_type": "code",
   "execution_count": 47,
   "metadata": {},
   "outputs": [
    {
     "name": "stdout",
     "output_type": "stream",
     "text": [
      "The overall conversion rate is: 0.016\n"
     ]
    }
   ],
   "source": [
    "# Conversion rate = number of purchases / number of views\n",
    "\n",
    "conversion_rate = purchases['product_id'].count() / views['product_id'].count()\n",
    "print('The overall conversion rate is:', round(conversion_rate,3))\n",
    "del views, purchases"
   ]
  },
  {
   "cell_type": "markdown",
   "metadata": {},
   "source": [
    "### Plot the number of purchases of each category"
   ]
  },
  {
   "cell_type": "markdown",
   "metadata": {},
   "source": [
    "In order to explore categories, we can look at the `category_id` or the `category_code` columns. We decided to use the second one because, even though it has a cosiderable amount of `NaN` values, it is more illustrative and meaningful to plot (there are less unique values). In fact we can look at the first level of each category (e.g. in `accessories.bag` we only need `accessories`)."
   ]
  },
  {
   "cell_type": "code",
   "execution_count": 48,
   "metadata": {},
   "outputs": [],
   "source": [
    "# Now we create again the subsets to include the new column \n",
    "\n",
    "df_notNan = df[df.Category != 'nan']\n",
    "del df\n",
    "\n",
    "views_notNan = df_notNan[df_notNan.event_type == 'view']\n",
    "purchases_notNan = df_notNan[df_notNan.event_type == 'purchase']"
   ]
  },
  {
   "cell_type": "code",
   "execution_count": 49,
   "metadata": {},
   "outputs": [],
   "source": [
    "d1 = purchases_notNan.groupby('Category').event_type.count().reset_index().rename(columns =\n",
    "                                         {'event_type':'purchases_number'})\n",
    "del purchases_notNan"
   ]
  },
  {
   "cell_type": "code",
   "execution_count": 50,
   "metadata": {},
   "outputs": [],
   "source": [
    "# Finding number of views for each category\n",
    "\n",
    "d2 = views_notNan.groupby('Category').event_type.count().reset_index().rename(columns =\n",
    "                                                    {'event_type':'views_number'})\n",
    "del views_notNan"
   ]
  },
  {
   "cell_type": "code",
   "execution_count": 51,
   "metadata": {},
   "outputs": [
    {
     "data": {
      "text/html": [
       "<div>\n",
       "<style scoped>\n",
       "    .dataframe tbody tr th:only-of-type {\n",
       "        vertical-align: middle;\n",
       "    }\n",
       "\n",
       "    .dataframe tbody tr th {\n",
       "        vertical-align: top;\n",
       "    }\n",
       "\n",
       "    .dataframe thead th {\n",
       "        text-align: right;\n",
       "    }\n",
       "</style>\n",
       "<table border=\"1\" class=\"dataframe\">\n",
       "  <thead>\n",
       "    <tr style=\"text-align: right;\">\n",
       "      <th></th>\n",
       "      <th>Category</th>\n",
       "      <th>purchases_number</th>\n",
       "      <th>views_number</th>\n",
       "    </tr>\n",
       "  </thead>\n",
       "  <tbody>\n",
       "    <tr>\n",
       "      <th>0</th>\n",
       "      <td>accessories</td>\n",
       "      <td>6442</td>\n",
       "      <td>730553</td>\n",
       "    </tr>\n",
       "    <tr>\n",
       "      <th>1</th>\n",
       "      <td>apparel</td>\n",
       "      <td>80845</td>\n",
       "      <td>7615094</td>\n",
       "    </tr>\n",
       "    <tr>\n",
       "      <th>2</th>\n",
       "      <td>appliances</td>\n",
       "      <td>178566</td>\n",
       "      <td>13554250</td>\n",
       "    </tr>\n",
       "  </tbody>\n",
       "</table>\n",
       "</div>"
      ],
      "text/plain": [
       "      Category  purchases_number  views_number\n",
       "0  accessories              6442        730553\n",
       "1      apparel             80845       7615094\n",
       "2   appliances            178566      13554250"
      ]
     },
     "execution_count": 51,
     "metadata": {},
     "output_type": "execute_result"
    }
   ],
   "source": [
    "# Joining dataframes in order to have the number of purchases and views for each category\n",
    "\n",
    "dout = d1.merge(d2, on = 'Category')\n",
    "del d1,d2\n",
    "\n",
    "dout.head(3)"
   ]
  },
  {
   "cell_type": "code",
   "execution_count": 52,
   "metadata": {},
   "outputs": [],
   "source": [
    "# Adding a third column that is a combination of the other two in order to find the c.r.\n",
    "\n",
    "dout['conversion_rate'] = dout.apply(lambda row: \n",
    "                                     row.purchases_number / row.views_number, axis=1)"
   ]
  },
  {
   "cell_type": "code",
   "execution_count": 53,
   "metadata": {},
   "outputs": [
    {
     "data": {
      "image/png": "[encoded data removed]",
      "text/plain": [
       "<Figure size 1296x648 with 1 Axes>"
      ]
     },
     "metadata": {
      "needs_background": "light"
     },
     "output_type": "display_data"
    }
   ],
   "source": [
    "fig = plt.figure(figsize=(18,9))\n",
    "plot = sns.barplot(x='Category', y='purchases_number', data=dout)\n",
    "plot.set(xlabel='Categories', ylabel='Number of purchases', title = 'Purchase rate per category')\n",
    "plt.show()"
   ]
  },
  {
   "cell_type": "markdown",
   "metadata": {},
   "source": [
    "The `electronics` category seems to be one with the bigger number of purchases by a lot while `medicine`,`country-yard` and `stationery` the less bought."
   ]
  },
  {
   "cell_type": "markdown",
   "metadata": {},
   "source": [
    "### Show the conversion rate of each category in decreasing order"
   ]
  },
  {
   "cell_type": "code",
   "execution_count": 12,
   "metadata": {},
   "outputs": [
    {
     "name": "stdout",
     "output_type": "stream",
     "text": [
      "        Category  purchases_number  views_number  conversion_rate\n",
      "5   construction           2442248      77482657         0.031520\n",
      "11         sport            316243      16145807         0.019587\n",
      "7    electronics           1341139      69201207         0.019380\n",
      "2     appliances            925763      63417883         0.014598\n",
      "6   country_yard             10849        841274         0.012896\n",
      "3           auto             54205       4645771         0.011668\n",
      "8      furniture            197485      17652355         0.011187\n",
      "1        apparel            455370      41137209         0.011070\n",
      "12    stationery              1872        172368         0.010860\n",
      "4      computers            202396      18733089         0.010804\n",
      "9           kids             93757       9128630         0.010271\n",
      "10      medicine              2583        276453         0.009343\n",
      "0    accessories             36854       4806168         0.007668\n"
     ]
    }
   ],
   "source": [
    "# Sorting values\n",
    "\n",
    "print(dout.sort_values(by='conversion_rate', ascending = False))\n",
    "del dout"
   ]
  },
  {
   "cell_type": "markdown",
   "metadata": {},
   "source": [
    "Despite `medicine` and `stationery` have a relatively little number of purchases, they have a fairly high conversion rate. "
   ]
  },
  {
   "cell_type": "code",
   "execution_count": 60,
   "metadata": {},
   "outputs": [],
   "source": [
    "%reset -f"
   ]
  },
  {
   "cell_type": "markdown",
   "metadata": {},
   "source": [
    "# [RQ7] The Pareto principle\n"
   ]
  },
  {
   "cell_type": "markdown",
   "metadata": {},
   "source": [
    "---------------"
   ]
  },
  {
   "cell_type": "markdown",
   "metadata": {},
   "source": [
    "### Prove that the Pareto principle applies to your store."
   ]
  },
  {
   "cell_type": "markdown",
   "metadata": {},
   "source": [
    "We want to prove the Pareto principle by contructing a column that computes the cumulative percetage sum of the revenue for each user and finding the one that corresponds to the 80% of the store revenue. "
   ]
  },
  {
   "cell_type": "code",
   "execution_count": 61,
   "metadata": {},
   "outputs": [],
   "source": [
    "import pandas as pd\n",
    "import matplotlib.pyplot as plt\n",
    "import seaborn as sns\n",
    "df = pd.read_pickle(\"Data.RQ7\")\n",
    "df = df[df.event_type==\"purchase\"]\n",
    "customers = df.groupby('user_id').price.sum().to_frame('total_revenue').sort_values(\n",
    "    by='total_revenue', ascending = False).reset_index()\n",
    "del df"
   ]
  },
  {
   "cell_type": "code",
   "execution_count": 62,
   "metadata": {},
   "outputs": [],
   "source": [
    "# Adding column with cumulative sum : cumul_sum[i] = cumul_sum[i-i] \n",
    "\n",
    "revenue = customers['total_revenue'].sum()\n",
    "customers['cumul_sum'] = customers['total_revenue'].cumsum()"
   ]
  },
  {
   "cell_type": "code",
   "execution_count": 63,
   "metadata": {},
   "outputs": [],
   "source": [
    "# Adding column with the percentage of the cumulative sum over the store revenue \n",
    "\n",
    "customers['percent_cumul_sum'] = customers.apply(lambda row: \n",
    "                                     round(row.cumul_sum / revenue,4)*100, axis=1)"
   ]
  },
  {
   "cell_type": "code",
   "execution_count": 65,
   "metadata": {},
   "outputs": [
    {
     "name": "stdout",
     "output_type": "stream",
     "text": [
      "The 25.817 percent of the users provides approximately the 80 percent of the store revenue.\n"
     ]
    }
   ],
   "source": [
    "pareto_index = customers[customers['percent_cumul_sum'] >= 80].index[0]\n",
    "print('The', round((pareto_index/len(customers))*100,3),'percent of the users provides approximately the 80 percent of the store revenue.')"
   ]
  },
  {
   "cell_type": "markdown",
   "metadata": {},
   "source": [
    "The *Pareto index* in the graphic below refers to the percentage of customers that provides the 80% of the store revenue."
   ]
  },
  {
   "cell_type": "code",
   "execution_count": 66,
   "metadata": {},
   "outputs": [
    {
     "data": {
      "image/png": "[encoded data removed]",
      "text/plain": [
       "<Figure size 432x288 with 1 Axes>"
      ]
     },
     "metadata": {
      "needs_background": "light"
     },
     "output_type": "display_data"
    }
   ],
   "source": [
    "customers['percent_cumul_sum'].plot(label='CPR')\n",
    "plt.figsize = (25,7)\n",
    "plt.title('Cumulative Percentage Revenue Plot')\n",
    "plt.ylabel('Percentage')\n",
    "plt.xlabel('Customer Index')\n",
    "plt.axvline(0.2*len(customers), label='20% of customers',color='orange',alpha=0.5)\n",
    "plt.axvline(pareto_index, label='Our Pareto index',color='red',alpha=0.5)\n",
    "plt.legend()\n",
    "\n",
    "plt.show()\n",
    "del customers"
   ]
  },
  {
   "cell_type": "markdown",
   "metadata": {},
   "source": [
    "By looking at the distance between the yellow and the red line, we can affirm that the Pareto principle approximatively applies on our online store. "
   ]
  },
  {
   "cell_type": "code",
   "execution_count": 69,
   "metadata": {},
   "outputs": [],
   "source": [
    "%reset -f"
   ]
  },
  {
   "cell_type": "code",
   "execution_count": null,
   "metadata": {},
   "outputs": [],
   "source": []
  }
 ],
 "metadata": {
  "kernelspec": {
   "display_name": "Python 3",
   "language": "python",
   "name": "python3"
  },
  "language_info": {
   "codemirror_mode": {
    "name": "ipython",
    "version": 3
   },
   "file_extension": ".py",
   "mimetype": "text/x-python",
   "name": "python",
   "nbconvert_exporter": "python",
   "pygments_lexer": "ipython3",
   "version": "3.8.5"
  }
 },
 "nbformat": 4,
 "nbformat_minor": 4
}
