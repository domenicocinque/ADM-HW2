{
 "cells": [
  {
   "cell_type": "code",
   "execution_count": 1,
   "metadata": {},
   "outputs": [],
   "source": [
    "import pandas as pd\n",
    "import numpy as np\n",
    "import matplotlib.pyplot as plt"
   ]
  },
  {
   "cell_type": "code",
   "execution_count": 2,
   "metadata": {},
   "outputs": [],
   "source": [
    "df_oct = pd.read_csv('C:/Users/manue/Desktop/Data Science/La_Sapienza/ADM/HW02/2019-Oct.csv', header = 'infer', nrows = 1000000)\n",
    "df_nov = pd.read_csv('C:/Users/manue/Desktop/Data Science/La_Sapienza/ADM/HW02/2019-Nov.csv', header = 'infer', nrows = 1000000)\n",
    "df = pd.concat([df_oct, df_nov]).reset_index()\n",
    "df['event_time'] = pd.to_datetime(df.event_time)"
   ]
  },
  {
   "cell_type": "code",
   "execution_count": 3,
   "metadata": {},
   "outputs": [],
   "source": [
    "#filter event_type 'purchase' only, drop Nan products\n",
    "\n",
    "purchases = df[df['event_type']=='purchase']\n",
    "purchases = purchases.dropna(subset=['brand'])"
   ]
  },
  {
   "cell_type": "code",
   "execution_count": 19,
   "metadata": {},
   "outputs": [
    {
     "data": {
      "image/png": "[encoded data removed]",
      "text/plain": [
       "<Figure size 576x288 with 1 Axes>"
      ]
     },
     "metadata": {
      "needs_background": "light"
     },
     "output_type": "display_data"
    }
   ],
   "source": [
    "# average price of products\n",
    "\n",
    "df_unique_products = df.drop_duplicates(subset=['product_id'])\n",
    "avg_price = df_unique_products.groupby('brand')['price'].mean().reset_index()\n",
    "avg_price.rename(columns={'index':'brand'}, inplace=True)\n",
    "fig = plt.figure()\n",
    "fig.set_figheight(4)\n",
    "fig.set_figwidth(8)\n",
    "ax = fig.add_axes([0,0,1,1])\n",
    "ax.hist(avg_price.price, bins= 100)\n",
    "plt.title('Average price of products')\n",
    "plt.xlabel('avg_price')\n",
    "plt.show()\n"
   ]
  },
  {
   "cell_type": "code",
   "execution_count": 5,
   "metadata": {},
   "outputs": [],
   "source": [
    "# brand profit per month, version 1\n",
    "\n",
    "def get_brand_profit(df, brand = None, mode = 0):\n",
    "    if brand is None:\n",
    "        brand = input('Select a brand:\\n')\n",
    "        mode = 1\n",
    "    brand_df = df.loc[df['brand'] == brand]\n",
    "    months = sorted(brand_df['event_time'].dt.month.unique())\n",
    "    result = [brand, 0, 0]\n",
    "    for month in months:\n",
    "        if month == 10:\n",
    "            result[1] = brand_df.loc[(df['brand'] == brand) & (df['event_time'].dt.month == month)].price.sum()\n",
    "        else:\n",
    "            result[2] = brand_df.loc[(df['brand'] == brand) & (df['event_time'].dt.month == month)].price.sum()\n",
    "    result.append(result[2]-result[1])\n",
    "    try:\n",
    "        delta_perc = result[3]/result[1]\n",
    "    except ZeroDivisionError:\n",
    "        delta_perc = 1\n",
    "    result.append(delta_perc)\n",
    "    if mode == 1:\n",
    "        print(f\"Brand {brand} sales for Oct-2019: {result[1]:,.2f}. For Nov-2019: {result[2]:,.2f}\")\n",
    "        return None          \n",
    "    return result\n",
    "\n",
    "\n",
    "# top 3 brands w/ worst losses between the two months\n",
    "\n",
    "\n",
    "def get_worst_losses(df):\n",
    "    brands = df.brand.unique()\n",
    "    performance = []\n",
    "    for brand in brands:\n",
    "        performance.append(get_brand_profit(df,brand))\n",
    "    return sorted(performance, key = lambda x: x[4])[:3]\n",
    "\n",
    "\n",
    "def print_worst_losses(df):\n",
    "    my_list = get_worst_losses(df)\n",
    "    for i in range(3):\n",
    "        print(f\"Brand {my_list[i][0]} lost {-my_list[i][4]:.2%} percent between Oct-2019 and Nov-2019\")"
   ]
  },
  {
   "cell_type": "code",
   "execution_count": 6,
   "metadata": {},
   "outputs": [
    {
     "name": "stdin",
     "output_type": "stream",
     "text": [
      "Select a brand:\n",
      " acer\n"
     ]
    },
    {
     "name": "stdout",
     "output_type": "stream",
     "text": [
      "Brand acer sales for Oct-2019: 84,198.60. For Nov-2019: 67,253.76\n"
     ]
    }
   ],
   "source": [
    "# get profit for a specific brand for each month\n",
    "\n",
    "get_brand_profit(purchases)"
   ]
  },
  {
   "cell_type": "code",
   "execution_count": 7,
   "metadata": {},
   "outputs": [
    {
     "name": "stderr",
     "output_type": "stream",
     "text": [
      "C:\\Users\\manue\\Anaconda3\\lib\\site-packages\\ipykernel_launcher.py:17: RuntimeWarning: divide by zero encountered in double_scalars\n"
     ]
    },
    {
     "name": "stdout",
     "output_type": "stream",
     "text": [
      "Brand pdw lost 100.00% percent between Oct-2019 and Nov-2019\n",
      "Brand ersport lost 100.00% percent between Oct-2019 and Nov-2019\n",
      "Brand shimano lost 100.00% percent between Oct-2019 and Nov-2019\n"
     ]
    }
   ],
   "source": [
    "# get brands with the worst losses between Oct-2019 and Nov-2019 \n",
    "\n",
    "print_worst_losses(purchases)"
   ]
  },
  {
   "cell_type": "code",
   "execution_count": 8,
   "metadata": {},
   "outputs": [
    {
     "name": "stdin",
     "output_type": "stream",
     "text": [
      "Select a brand:\n",
      " acer\n"
     ]
    },
    {
     "data": {
      "text/plain": [
       "event_time  event_time\n",
       "2019        10            84198.60\n",
       "            11            67253.76\n",
       "Name: price, dtype: float64"
      ]
     },
     "execution_count": 8,
     "metadata": {},
     "output_type": "execute_result"
    }
   ],
   "source": [
    "#get profit for a specific brand for each month, version 2\n",
    "\n",
    "def get_brand_profit2(df):\n",
    "    brand = input('Select a brand:\\n')\n",
    "    brand_df = df.loc[df['brand'] == brand]\n",
    "    return brand_df.groupby(by= [brand_df.event_time.dt.year,brand_df.event_time.dt.month]).price.sum()\n",
    "\n",
    "get_brand_profit2(purchases)"
   ]
  },
  {
   "cell_type": "code",
   "execution_count": null,
   "metadata": {},
   "outputs": [],
   "source": []
  }
 ],
 "metadata": {
  "kernelspec": {
   "display_name": "Python 3",
   "language": "python",
   "name": "python3"
  },
  "language_info": {
   "codemirror_mode": {
    "name": "ipython",
    "version": 3
   },
   "file_extension": ".py",
   "mimetype": "text/x-python",
   "name": "python",
   "nbconvert_exporter": "python",
   "pygments_lexer": "ipython3",
   "version": "3.7.3"
  }
 },
 "nbformat": 4,
 "nbformat_minor": 2
}
