{
 "cells": [
  {
   "cell_type": "code",
   "execution_count": 3,
   "metadata": {},
   "outputs": [],
   "source": [
    "import pandas as pd\n",
    "df = pd.read_csv('~/Desktop/Datasets/2020-Jan.csv', header = 'infer', \n",
    "                parse_dates = ['event_time'], \n",
    "                 date_parser = pd.to_datetime, nrows=100000)"
   ]
  },
  {
   "cell_type": "code",
   "execution_count": 28,
   "metadata": {},
   "outputs": [
    {
     "data": {
      "text/html": [
       "<div>\n",
       "<style scoped>\n",
       "    .dataframe tbody tr th:only-of-type {\n",
       "        vertical-align: middle;\n",
       "    }\n",
       "\n",
       "    .dataframe tbody tr th {\n",
       "        vertical-align: top;\n",
       "    }\n",
       "\n",
       "    .dataframe thead th {\n",
       "        text-align: right;\n",
       "    }\n",
       "</style>\n",
       "<table border=\"1\" class=\"dataframe\">\n",
       "  <thead>\n",
       "    <tr style=\"text-align: right;\">\n",
       "      <th></th>\n",
       "      <th>event_time</th>\n",
       "      <th>event_type</th>\n",
       "      <th>product_id</th>\n",
       "      <th>category_id</th>\n",
       "      <th>category_code</th>\n",
       "      <th>brand</th>\n",
       "      <th>price</th>\n",
       "      <th>user_id</th>\n",
       "      <th>user_session</th>\n",
       "    </tr>\n",
       "  </thead>\n",
       "  <tbody>\n",
       "    <tr>\n",
       "      <th>0</th>\n",
       "      <td>2020-01-01 00:00:00+00:00</td>\n",
       "      <td>view</td>\n",
       "      <td>5809910</td>\n",
       "      <td>1602943681873052386</td>\n",
       "      <td>NaN</td>\n",
       "      <td>grattol</td>\n",
       "      <td>5.24</td>\n",
       "      <td>595414620</td>\n",
       "      <td>4adb70bb-edbd-4981-b60f-a05bfd32683a</td>\n",
       "    </tr>\n",
       "    <tr>\n",
       "      <th>1</th>\n",
       "      <td>2020-01-01 00:00:09+00:00</td>\n",
       "      <td>view</td>\n",
       "      <td>5812943</td>\n",
       "      <td>1487580012121948301</td>\n",
       "      <td>NaN</td>\n",
       "      <td>kinetics</td>\n",
       "      <td>3.97</td>\n",
       "      <td>595414640</td>\n",
       "      <td>c8c5205d-be43-4f1d-aa56-4828b8151c8a</td>\n",
       "    </tr>\n",
       "    <tr>\n",
       "      <th>2</th>\n",
       "      <td>2020-01-01 00:00:19+00:00</td>\n",
       "      <td>view</td>\n",
       "      <td>5798924</td>\n",
       "      <td>1783999068867920626</td>\n",
       "      <td>NaN</td>\n",
       "      <td>zinger</td>\n",
       "      <td>3.97</td>\n",
       "      <td>595412617</td>\n",
       "      <td>46a5010f-bd69-4fbe-a00d-bb17aa7b46f3</td>\n",
       "    </tr>\n",
       "    <tr>\n",
       "      <th>3</th>\n",
       "      <td>2020-01-01 00:00:24+00:00</td>\n",
       "      <td>view</td>\n",
       "      <td>5793052</td>\n",
       "      <td>1487580005754995573</td>\n",
       "      <td>NaN</td>\n",
       "      <td>NaN</td>\n",
       "      <td>4.92</td>\n",
       "      <td>420652863</td>\n",
       "      <td>546f6af3-a517-4752-a98b-80c4c5860711</td>\n",
       "    </tr>\n",
       "    <tr>\n",
       "      <th>4</th>\n",
       "      <td>2020-01-01 00:00:25+00:00</td>\n",
       "      <td>view</td>\n",
       "      <td>5899926</td>\n",
       "      <td>2115334439910245200</td>\n",
       "      <td>NaN</td>\n",
       "      <td>NaN</td>\n",
       "      <td>3.92</td>\n",
       "      <td>484071203</td>\n",
       "      <td>cff70ddf-529e-4b0c-a4fc-f43a749c0acb</td>\n",
       "    </tr>\n",
       "  </tbody>\n",
       "</table>\n",
       "</div>"
      ],
      "text/plain": [
       "                 event_time event_type  product_id          category_id  \\\n",
       "0 2020-01-01 00:00:00+00:00       view     5809910  1602943681873052386   \n",
       "1 2020-01-01 00:00:09+00:00       view     5812943  1487580012121948301   \n",
       "2 2020-01-01 00:00:19+00:00       view     5798924  1783999068867920626   \n",
       "3 2020-01-01 00:00:24+00:00       view     5793052  1487580005754995573   \n",
       "4 2020-01-01 00:00:25+00:00       view     5899926  2115334439910245200   \n",
       "\n",
       "  category_code     brand  price    user_id  \\\n",
       "0           NaN   grattol   5.24  595414620   \n",
       "1           NaN  kinetics   3.97  595414640   \n",
       "2           NaN    zinger   3.97  595412617   \n",
       "3           NaN       NaN   4.92  420652863   \n",
       "4           NaN       NaN   3.92  484071203   \n",
       "\n",
       "                           user_session  \n",
       "0  4adb70bb-edbd-4981-b60f-a05bfd32683a  \n",
       "1  c8c5205d-be43-4f1d-aa56-4828b8151c8a  \n",
       "2  46a5010f-bd69-4fbe-a00d-bb17aa7b46f3  \n",
       "3  546f6af3-a517-4752-a98b-80c4c5860711  \n",
       "4  cff70ddf-529e-4b0c-a4fc-f43a749c0acb  "
      ]
     },
     "execution_count": 28,
     "metadata": {},
     "output_type": "execute_result"
    }
   ],
   "source": [
    "df.head(5)"
   ]
  },
  {
   "cell_type": "markdown",
   "metadata": {},
   "source": [
    "### RQ6"
   ]
  },
  {
   "cell_type": "code",
   "execution_count": 29,
   "metadata": {},
   "outputs": [],
   "source": [
    "# Creating subsets\n",
    "\n",
    "views = df[df.event_type == 'view']\n",
    "purchases = df[df.event_type == 'purchase']"
   ]
  },
  {
   "cell_type": "code",
   "execution_count": 30,
   "metadata": {},
   "outputs": [
    {
     "name": "stdout",
     "output_type": "stream",
     "text": [
      "The overall conversion rate is: 0.087\n"
     ]
    }
   ],
   "source": [
    "# Conversion rate = number of purchases / number of views\n",
    "\n",
    "CR = purchases['product_id'].count() / views['product_id'].count()\n",
    "print('The overall conversion rate is:', round(CR,3))"
   ]
  },
  {
   "cell_type": "code",
   "execution_count": 34,
   "metadata": {},
   "outputs": [
    {
     "data": {
      "text/plain": [
       "array([nan, 'accessories.bag', 'stationery.cartrige',\n",
       "       'appliances.environment.vacuum', 'apparel.glove',\n",
       "       'appliances.personal.hair_cutter', 'furniture.living_room.cabinet',\n",
       "       'accessories.cosmetic_bag', 'furniture.bathroom.bath',\n",
       "       'appliances.environment.air_conditioner'], dtype=object)"
      ]
     },
     "execution_count": 34,
     "metadata": {},
     "output_type": "execute_result"
    }
   ],
   "source": [
    "# Finding categories\n",
    "\n",
    "df['category_code'].unique()"
   ]
  },
  {
   "cell_type": "markdown",
   "metadata": {},
   "source": [
    "The general categories are at the beginning of these strings (e.g. in `accessories.bag` we only need `accessories`), so we need to extract the category names"
   ]
  },
  {
   "cell_type": "code",
   "execution_count": 35,
   "metadata": {},
   "outputs": [],
   "source": [
    "# Adjusting categories \n",
    "\n",
    "df['category'] = df.apply(lambda row: str(row.category_code).split('.')[0], axis=1)"
   ]
  },
  {
   "cell_type": "code",
   "execution_count": 36,
   "metadata": {},
   "outputs": [
    {
     "data": {
      "text/plain": [
       "array(['nan', 'accessories', 'stationery', 'appliances', 'apparel',\n",
       "       'furniture'], dtype=object)"
      ]
     },
     "execution_count": 36,
     "metadata": {},
     "output_type": "execute_result"
    }
   ],
   "source": [
    "df['category'].unique()"
   ]
  },
  {
   "cell_type": "code",
   "execution_count": 37,
   "metadata": {},
   "outputs": [],
   "source": [
    "# Now we create again the subsets to include the new column\n",
    "\n",
    "views = df[df.event_type == 'view']\n",
    "purchases = df[df.event_type == 'purchase']"
   ]
  },
  {
   "cell_type": "code",
   "execution_count": 38,
   "metadata": {},
   "outputs": [
    {
     "data": {
      "text/html": [
       "<div>\n",
       "<style scoped>\n",
       "    .dataframe tbody tr th:only-of-type {\n",
       "        vertical-align: middle;\n",
       "    }\n",
       "\n",
       "    .dataframe tbody tr th {\n",
       "        vertical-align: top;\n",
       "    }\n",
       "\n",
       "    .dataframe thead th {\n",
       "        text-align: right;\n",
       "    }\n",
       "</style>\n",
       "<table border=\"1\" class=\"dataframe\">\n",
       "  <thead>\n",
       "    <tr style=\"text-align: right;\">\n",
       "      <th></th>\n",
       "      <th>category</th>\n",
       "      <th>purchases_number</th>\n",
       "    </tr>\n",
       "  </thead>\n",
       "  <tbody>\n",
       "    <tr>\n",
       "      <th>0</th>\n",
       "      <td>accessories</td>\n",
       "      <td>2</td>\n",
       "    </tr>\n",
       "    <tr>\n",
       "      <th>1</th>\n",
       "      <td>apparel</td>\n",
       "      <td>23</td>\n",
       "    </tr>\n",
       "    <tr>\n",
       "      <th>2</th>\n",
       "      <td>appliances</td>\n",
       "      <td>7</td>\n",
       "    </tr>\n",
       "    <tr>\n",
       "      <th>3</th>\n",
       "      <td>furniture</td>\n",
       "      <td>3</td>\n",
       "    </tr>\n",
       "    <tr>\n",
       "      <th>4</th>\n",
       "      <td>nan</td>\n",
       "      <td>4172</td>\n",
       "    </tr>\n",
       "    <tr>\n",
       "      <th>5</th>\n",
       "      <td>stationery</td>\n",
       "      <td>18</td>\n",
       "    </tr>\n",
       "  </tbody>\n",
       "</table>\n",
       "</div>"
      ],
      "text/plain": [
       "      category  purchases_number\n",
       "0  accessories                 2\n",
       "1      apparel                23\n",
       "2   appliances                 7\n",
       "3    furniture                 3\n",
       "4          nan              4172\n",
       "5   stationery                18"
      ]
     },
     "execution_count": 38,
     "metadata": {},
     "output_type": "execute_result"
    }
   ],
   "source": [
    "# Finding number of purchases for each category\n",
    "\n",
    "d1 = purchases.groupby('category').event_type.count().reset_index().rename(columns =\n",
    "                                                    {'event_type':'purchases_number'})\n",
    "d1"
   ]
  },
  {
   "cell_type": "code",
   "execution_count": 39,
   "metadata": {},
   "outputs": [],
   "source": [
    "# Finding number of views for each category\n",
    "\n",
    "d2 = views.groupby('category').event_type.count().reset_index().rename(columns =\n",
    "                                                    {'event_type':'views_number'})"
   ]
  },
  {
   "cell_type": "code",
   "execution_count": 40,
   "metadata": {},
   "outputs": [
    {
     "data": {
      "text/html": [
       "<div>\n",
       "<style scoped>\n",
       "    .dataframe tbody tr th:only-of-type {\n",
       "        vertical-align: middle;\n",
       "    }\n",
       "\n",
       "    .dataframe tbody tr th {\n",
       "        vertical-align: top;\n",
       "    }\n",
       "\n",
       "    .dataframe thead th {\n",
       "        text-align: right;\n",
       "    }\n",
       "</style>\n",
       "<table border=\"1\" class=\"dataframe\">\n",
       "  <thead>\n",
       "    <tr style=\"text-align: right;\">\n",
       "      <th></th>\n",
       "      <th>category</th>\n",
       "      <th>purchases_number</th>\n",
       "      <th>views_number</th>\n",
       "    </tr>\n",
       "  </thead>\n",
       "  <tbody>\n",
       "    <tr>\n",
       "      <th>0</th>\n",
       "      <td>accessories</td>\n",
       "      <td>2</td>\n",
       "      <td>142</td>\n",
       "    </tr>\n",
       "    <tr>\n",
       "      <th>1</th>\n",
       "      <td>apparel</td>\n",
       "      <td>23</td>\n",
       "      <td>109</td>\n",
       "    </tr>\n",
       "    <tr>\n",
       "      <th>2</th>\n",
       "      <td>appliances</td>\n",
       "      <td>7</td>\n",
       "      <td>558</td>\n",
       "    </tr>\n",
       "    <tr>\n",
       "      <th>3</th>\n",
       "      <td>furniture</td>\n",
       "      <td>3</td>\n",
       "      <td>155</td>\n",
       "    </tr>\n",
       "    <tr>\n",
       "      <th>4</th>\n",
       "      <td>nan</td>\n",
       "      <td>4172</td>\n",
       "      <td>47338</td>\n",
       "    </tr>\n",
       "    <tr>\n",
       "      <th>5</th>\n",
       "      <td>stationery</td>\n",
       "      <td>18</td>\n",
       "      <td>110</td>\n",
       "    </tr>\n",
       "  </tbody>\n",
       "</table>\n",
       "</div>"
      ],
      "text/plain": [
       "      category  purchases_number  views_number\n",
       "0  accessories                 2           142\n",
       "1      apparel                23           109\n",
       "2   appliances                 7           558\n",
       "3    furniture                 3           155\n",
       "4          nan              4172         47338\n",
       "5   stationery                18           110"
      ]
     },
     "execution_count": 40,
     "metadata": {},
     "output_type": "execute_result"
    }
   ],
   "source": [
    "# Joining dataframes in order to have the number of purchases and views for each category\n",
    "\n",
    "dout = d1.merge(d2, on = 'category')\n",
    "dout"
   ]
  },
  {
   "cell_type": "code",
   "execution_count": 41,
   "metadata": {},
   "outputs": [],
   "source": [
    "# Adding a third column that is a combination of the other two in order to find the c.r.\n",
    "\n",
    "dout['conversion_rate'] = dout.apply(lambda row: \n",
    "                                     row.purchases_number / row.views_number, axis=1)"
   ]
  },
  {
   "cell_type": "markdown",
   "metadata": {},
   "source": [
    "I'm assuming that the purchase rate is the number of purchases for each category. "
   ]
  },
  {
   "cell_type": "code",
   "execution_count": 20,
   "metadata": {},
   "outputs": [
    {
     "ename": "NameError",
     "evalue": "name 'dout' is not defined",
     "output_type": "error",
     "traceback": [
      "\u001b[0;31m---------------------------------------------------------------------------\u001b[0m",
      "\u001b[0;31mNameError\u001b[0m                                 Traceback (most recent call last)",
      "\u001b[0;32m<ipython-input-20-f8de98cb03f5>\u001b[0m in \u001b[0;36m<module>\u001b[0;34m\u001b[0m\n\u001b[1;32m      3\u001b[0m \u001b[0;34m\u001b[0m\u001b[0m\n\u001b[1;32m      4\u001b[0m \u001b[0mfig\u001b[0m \u001b[0;34m=\u001b[0m \u001b[0mplt\u001b[0m\u001b[0;34m.\u001b[0m\u001b[0mfigure\u001b[0m\u001b[0;34m(\u001b[0m\u001b[0mfigsize\u001b[0m\u001b[0;34m=\u001b[0m\u001b[0;34m(\u001b[0m\u001b[0;36m18\u001b[0m\u001b[0;34m,\u001b[0m\u001b[0;36m9\u001b[0m\u001b[0;34m)\u001b[0m\u001b[0;34m)\u001b[0m\u001b[0;34m\u001b[0m\u001b[0;34m\u001b[0m\u001b[0m\n\u001b[0;32m----> 5\u001b[0;31m \u001b[0mplot\u001b[0m \u001b[0;34m=\u001b[0m \u001b[0msns\u001b[0m\u001b[0;34m.\u001b[0m\u001b[0mbarplot\u001b[0m\u001b[0;34m(\u001b[0m\u001b[0mx\u001b[0m\u001b[0;34m=\u001b[0m\u001b[0;34m'category'\u001b[0m\u001b[0;34m,\u001b[0m \u001b[0my\u001b[0m\u001b[0;34m=\u001b[0m\u001b[0;34m'purchases_number'\u001b[0m\u001b[0;34m,\u001b[0m \u001b[0mdata\u001b[0m\u001b[0;34m=\u001b[0m\u001b[0mdout\u001b[0m\u001b[0;34m)\u001b[0m\u001b[0;34m\u001b[0m\u001b[0;34m\u001b[0m\u001b[0m\n\u001b[0m",
      "\u001b[0;31mNameError\u001b[0m: name 'dout' is not defined"
     ]
    },
    {
     "data": {
      "text/plain": [
       "<Figure size 1296x648 with 0 Axes>"
      ]
     },
     "metadata": {},
     "output_type": "display_data"
    }
   ],
   "source": [
    "import seaborn as sns\n",
    "import matplotlib.pyplot as plt\n",
    "\n",
    "fig = plt.figure(figsize=(18,9))\n",
    "plot = sns.barplot(x='category', y='purchases_number', data=dout)"
   ]
  },
  {
   "cell_type": "code",
   "execution_count": 46,
   "metadata": {},
   "outputs": [
    {
     "data": {
      "text/html": [
       "<div>\n",
       "<style scoped>\n",
       "    .dataframe tbody tr th:only-of-type {\n",
       "        vertical-align: middle;\n",
       "    }\n",
       "\n",
       "    .dataframe tbody tr th {\n",
       "        vertical-align: top;\n",
       "    }\n",
       "\n",
       "    .dataframe thead th {\n",
       "        text-align: right;\n",
       "    }\n",
       "</style>\n",
       "<table border=\"1\" class=\"dataframe\">\n",
       "  <thead>\n",
       "    <tr style=\"text-align: right;\">\n",
       "      <th></th>\n",
       "      <th>category</th>\n",
       "      <th>purchases_number</th>\n",
       "      <th>views_number</th>\n",
       "      <th>conversion_rate</th>\n",
       "    </tr>\n",
       "  </thead>\n",
       "  <tbody>\n",
       "    <tr>\n",
       "      <th>1</th>\n",
       "      <td>apparel</td>\n",
       "      <td>23</td>\n",
       "      <td>109</td>\n",
       "      <td>0.211009</td>\n",
       "    </tr>\n",
       "    <tr>\n",
       "      <th>5</th>\n",
       "      <td>stationery</td>\n",
       "      <td>18</td>\n",
       "      <td>110</td>\n",
       "      <td>0.163636</td>\n",
       "    </tr>\n",
       "    <tr>\n",
       "      <th>4</th>\n",
       "      <td>nan</td>\n",
       "      <td>4172</td>\n",
       "      <td>47338</td>\n",
       "      <td>0.088132</td>\n",
       "    </tr>\n",
       "    <tr>\n",
       "      <th>3</th>\n",
       "      <td>furniture</td>\n",
       "      <td>3</td>\n",
       "      <td>155</td>\n",
       "      <td>0.019355</td>\n",
       "    </tr>\n",
       "    <tr>\n",
       "      <th>0</th>\n",
       "      <td>accessories</td>\n",
       "      <td>2</td>\n",
       "      <td>142</td>\n",
       "      <td>0.014085</td>\n",
       "    </tr>\n",
       "    <tr>\n",
       "      <th>2</th>\n",
       "      <td>appliances</td>\n",
       "      <td>7</td>\n",
       "      <td>558</td>\n",
       "      <td>0.012545</td>\n",
       "    </tr>\n",
       "  </tbody>\n",
       "</table>\n",
       "</div>"
      ],
      "text/plain": [
       "      category  purchases_number  views_number  conversion_rate\n",
       "1      apparel                23           109         0.211009\n",
       "5   stationery                18           110         0.163636\n",
       "4          nan              4172         47338         0.088132\n",
       "3    furniture                 3           155         0.019355\n",
       "0  accessories                 2           142         0.014085\n",
       "2   appliances                 7           558         0.012545"
      ]
     },
     "execution_count": 46,
     "metadata": {},
     "output_type": "execute_result"
    }
   ],
   "source": [
    "# Sorting values\n",
    "\n",
    "dout.sort_values(by='conversion_rate', ascending = False)"
   ]
  },
  {
   "cell_type": "markdown",
   "metadata": {},
   "source": [
    "### RQ7"
   ]
  },
  {
   "cell_type": "code",
   "execution_count": 47,
   "metadata": {},
   "outputs": [
    {
     "data": {
      "text/html": [
       "<div>\n",
       "<style scoped>\n",
       "    .dataframe tbody tr th:only-of-type {\n",
       "        vertical-align: middle;\n",
       "    }\n",
       "\n",
       "    .dataframe tbody tr th {\n",
       "        vertical-align: top;\n",
       "    }\n",
       "\n",
       "    .dataframe thead th {\n",
       "        text-align: right;\n",
       "    }\n",
       "</style>\n",
       "<table border=\"1\" class=\"dataframe\">\n",
       "  <thead>\n",
       "    <tr style=\"text-align: right;\">\n",
       "      <th></th>\n",
       "      <th>user_id</th>\n",
       "      <th>total_revenue</th>\n",
       "    </tr>\n",
       "  </thead>\n",
       "  <tbody>\n",
       "    <tr>\n",
       "      <th>0</th>\n",
       "      <td>539473388</td>\n",
       "      <td>4010.70</td>\n",
       "    </tr>\n",
       "    <tr>\n",
       "      <th>1</th>\n",
       "      <td>527789336</td>\n",
       "      <td>2519.19</td>\n",
       "    </tr>\n",
       "    <tr>\n",
       "      <th>2</th>\n",
       "      <td>559668054</td>\n",
       "      <td>2299.21</td>\n",
       "    </tr>\n",
       "    <tr>\n",
       "      <th>3</th>\n",
       "      <td>443690526</td>\n",
       "      <td>2197.45</td>\n",
       "    </tr>\n",
       "    <tr>\n",
       "      <th>4</th>\n",
       "      <td>593432191</td>\n",
       "      <td>2189.81</td>\n",
       "    </tr>\n",
       "    <tr>\n",
       "      <th>...</th>\n",
       "      <td>...</td>\n",
       "      <td>...</td>\n",
       "    </tr>\n",
       "    <tr>\n",
       "      <th>14807</th>\n",
       "      <td>595531690</td>\n",
       "      <td>0.00</td>\n",
       "    </tr>\n",
       "    <tr>\n",
       "      <th>14808</th>\n",
       "      <td>421017024</td>\n",
       "      <td>0.00</td>\n",
       "    </tr>\n",
       "    <tr>\n",
       "      <th>14809</th>\n",
       "      <td>543650069</td>\n",
       "      <td>0.00</td>\n",
       "    </tr>\n",
       "    <tr>\n",
       "      <th>14810</th>\n",
       "      <td>595471775</td>\n",
       "      <td>0.00</td>\n",
       "    </tr>\n",
       "    <tr>\n",
       "      <th>14811</th>\n",
       "      <td>595809918</td>\n",
       "      <td>0.00</td>\n",
       "    </tr>\n",
       "  </tbody>\n",
       "</table>\n",
       "<p>14812 rows × 2 columns</p>\n",
       "</div>"
      ],
      "text/plain": [
       "         user_id  total_revenue\n",
       "0      539473388        4010.70\n",
       "1      527789336        2519.19\n",
       "2      559668054        2299.21\n",
       "3      443690526        2197.45\n",
       "4      593432191        2189.81\n",
       "...          ...            ...\n",
       "14807  595531690           0.00\n",
       "14808  421017024           0.00\n",
       "14809  543650069           0.00\n",
       "14810  595471775           0.00\n",
       "14811  595809918           0.00\n",
       "\n",
       "[14812 rows x 2 columns]"
      ]
     },
     "execution_count": 47,
     "metadata": {},
     "output_type": "execute_result"
    }
   ],
   "source": [
    "# Grouping customers and computing total revenue (amount of money spent) for each one \n",
    "\n",
    "customers = df.groupby('user_id').price.sum().to_frame('total_revenue').sort_values(\n",
    "    by='total_revenue', ascending = False).reset_index()\n",
    "customers"
   ]
  },
  {
   "cell_type": "code",
   "execution_count": 48,
   "metadata": {},
   "outputs": [
    {
     "data": {
      "text/html": [
       "<div>\n",
       "<style scoped>\n",
       "    .dataframe tbody tr th:only-of-type {\n",
       "        vertical-align: middle;\n",
       "    }\n",
       "\n",
       "    .dataframe tbody tr th {\n",
       "        vertical-align: top;\n",
       "    }\n",
       "\n",
       "    .dataframe thead th {\n",
       "        text-align: right;\n",
       "    }\n",
       "</style>\n",
       "<table border=\"1\" class=\"dataframe\">\n",
       "  <thead>\n",
       "    <tr style=\"text-align: right;\">\n",
       "      <th></th>\n",
       "      <th>user_id</th>\n",
       "      <th>total_revenue</th>\n",
       "      <th>cumul_sum</th>\n",
       "    </tr>\n",
       "  </thead>\n",
       "  <tbody>\n",
       "    <tr>\n",
       "      <th>0</th>\n",
       "      <td>539473388</td>\n",
       "      <td>4010.70</td>\n",
       "      <td>4010.70</td>\n",
       "    </tr>\n",
       "    <tr>\n",
       "      <th>1</th>\n",
       "      <td>527789336</td>\n",
       "      <td>2519.19</td>\n",
       "      <td>6529.89</td>\n",
       "    </tr>\n",
       "    <tr>\n",
       "      <th>2</th>\n",
       "      <td>559668054</td>\n",
       "      <td>2299.21</td>\n",
       "      <td>8829.10</td>\n",
       "    </tr>\n",
       "    <tr>\n",
       "      <th>3</th>\n",
       "      <td>443690526</td>\n",
       "      <td>2197.45</td>\n",
       "      <td>11026.55</td>\n",
       "    </tr>\n",
       "    <tr>\n",
       "      <th>4</th>\n",
       "      <td>593432191</td>\n",
       "      <td>2189.81</td>\n",
       "      <td>13216.36</td>\n",
       "    </tr>\n",
       "    <tr>\n",
       "      <th>...</th>\n",
       "      <td>...</td>\n",
       "      <td>...</td>\n",
       "      <td>...</td>\n",
       "    </tr>\n",
       "    <tr>\n",
       "      <th>14807</th>\n",
       "      <td>595531690</td>\n",
       "      <td>0.00</td>\n",
       "      <td>922623.94</td>\n",
       "    </tr>\n",
       "    <tr>\n",
       "      <th>14808</th>\n",
       "      <td>421017024</td>\n",
       "      <td>0.00</td>\n",
       "      <td>922623.94</td>\n",
       "    </tr>\n",
       "    <tr>\n",
       "      <th>14809</th>\n",
       "      <td>543650069</td>\n",
       "      <td>0.00</td>\n",
       "      <td>922623.94</td>\n",
       "    </tr>\n",
       "    <tr>\n",
       "      <th>14810</th>\n",
       "      <td>595471775</td>\n",
       "      <td>0.00</td>\n",
       "      <td>922623.94</td>\n",
       "    </tr>\n",
       "    <tr>\n",
       "      <th>14811</th>\n",
       "      <td>595809918</td>\n",
       "      <td>0.00</td>\n",
       "      <td>922623.94</td>\n",
       "    </tr>\n",
       "  </tbody>\n",
       "</table>\n",
       "<p>14812 rows × 3 columns</p>\n",
       "</div>"
      ],
      "text/plain": [
       "         user_id  total_revenue  cumul_sum\n",
       "0      539473388        4010.70    4010.70\n",
       "1      527789336        2519.19    6529.89\n",
       "2      559668054        2299.21    8829.10\n",
       "3      443690526        2197.45   11026.55\n",
       "4      593432191        2189.81   13216.36\n",
       "...          ...            ...        ...\n",
       "14807  595531690           0.00  922623.94\n",
       "14808  421017024           0.00  922623.94\n",
       "14809  543650069           0.00  922623.94\n",
       "14810  595471775           0.00  922623.94\n",
       "14811  595809918           0.00  922623.94\n",
       "\n",
       "[14812 rows x 3 columns]"
      ]
     },
     "execution_count": 48,
     "metadata": {},
     "output_type": "execute_result"
    }
   ],
   "source": [
    "# Adding column with cumulative sum : cumul_sum[i] = cumul_sum[i-i] \n",
    "\n",
    "revenue = customers['total_revenue'].sum()\n",
    "customers['cumul_sum'] = customers['total_revenue'].cumsum()\n",
    "customers"
   ]
  },
  {
   "cell_type": "code",
   "execution_count": 49,
   "metadata": {},
   "outputs": [
    {
     "data": {
      "text/html": [
       "<div>\n",
       "<style scoped>\n",
       "    .dataframe tbody tr th:only-of-type {\n",
       "        vertical-align: middle;\n",
       "    }\n",
       "\n",
       "    .dataframe tbody tr th {\n",
       "        vertical-align: top;\n",
       "    }\n",
       "\n",
       "    .dataframe thead th {\n",
       "        text-align: right;\n",
       "    }\n",
       "</style>\n",
       "<table border=\"1\" class=\"dataframe\">\n",
       "  <thead>\n",
       "    <tr style=\"text-align: right;\">\n",
       "      <th></th>\n",
       "      <th>user_id</th>\n",
       "      <th>total_revenue</th>\n",
       "      <th>cumul_sum</th>\n",
       "      <th>percent_cumul_sum</th>\n",
       "    </tr>\n",
       "  </thead>\n",
       "  <tbody>\n",
       "    <tr>\n",
       "      <th>0</th>\n",
       "      <td>539473388</td>\n",
       "      <td>4010.70</td>\n",
       "      <td>4010.70</td>\n",
       "      <td>0.4</td>\n",
       "    </tr>\n",
       "    <tr>\n",
       "      <th>1</th>\n",
       "      <td>527789336</td>\n",
       "      <td>2519.19</td>\n",
       "      <td>6529.89</td>\n",
       "      <td>0.7</td>\n",
       "    </tr>\n",
       "    <tr>\n",
       "      <th>2</th>\n",
       "      <td>559668054</td>\n",
       "      <td>2299.21</td>\n",
       "      <td>8829.10</td>\n",
       "      <td>1.0</td>\n",
       "    </tr>\n",
       "    <tr>\n",
       "      <th>3</th>\n",
       "      <td>443690526</td>\n",
       "      <td>2197.45</td>\n",
       "      <td>11026.55</td>\n",
       "      <td>1.2</td>\n",
       "    </tr>\n",
       "    <tr>\n",
       "      <th>4</th>\n",
       "      <td>593432191</td>\n",
       "      <td>2189.81</td>\n",
       "      <td>13216.36</td>\n",
       "      <td>1.4</td>\n",
       "    </tr>\n",
       "    <tr>\n",
       "      <th>...</th>\n",
       "      <td>...</td>\n",
       "      <td>...</td>\n",
       "      <td>...</td>\n",
       "      <td>...</td>\n",
       "    </tr>\n",
       "    <tr>\n",
       "      <th>14449</th>\n",
       "      <td>496505110</td>\n",
       "      <td>0.96</td>\n",
       "      <td>922386.00</td>\n",
       "      <td>100.0</td>\n",
       "    </tr>\n",
       "    <tr>\n",
       "      <th>14450</th>\n",
       "      <td>578915216</td>\n",
       "      <td>0.96</td>\n",
       "      <td>922386.96</td>\n",
       "      <td>100.0</td>\n",
       "    </tr>\n",
       "    <tr>\n",
       "      <th>14451</th>\n",
       "      <td>518184250</td>\n",
       "      <td>0.95</td>\n",
       "      <td>922387.91</td>\n",
       "      <td>100.0</td>\n",
       "    </tr>\n",
       "    <tr>\n",
       "      <th>14445</th>\n",
       "      <td>595674820</td>\n",
       "      <td>1.00</td>\n",
       "      <td>922382.16</td>\n",
       "      <td>100.0</td>\n",
       "    </tr>\n",
       "    <tr>\n",
       "      <th>14811</th>\n",
       "      <td>595809918</td>\n",
       "      <td>0.00</td>\n",
       "      <td>922623.94</td>\n",
       "      <td>100.0</td>\n",
       "    </tr>\n",
       "  </tbody>\n",
       "</table>\n",
       "<p>14812 rows × 4 columns</p>\n",
       "</div>"
      ],
      "text/plain": [
       "         user_id  total_revenue  cumul_sum  percent_cumul_sum\n",
       "0      539473388        4010.70    4010.70                0.4\n",
       "1      527789336        2519.19    6529.89                0.7\n",
       "2      559668054        2299.21    8829.10                1.0\n",
       "3      443690526        2197.45   11026.55                1.2\n",
       "4      593432191        2189.81   13216.36                1.4\n",
       "...          ...            ...        ...                ...\n",
       "14449  496505110           0.96  922386.00              100.0\n",
       "14450  578915216           0.96  922386.96              100.0\n",
       "14451  518184250           0.95  922387.91              100.0\n",
       "14445  595674820           1.00  922382.16              100.0\n",
       "14811  595809918           0.00  922623.94              100.0\n",
       "\n",
       "[14812 rows x 4 columns]"
      ]
     },
     "execution_count": 49,
     "metadata": {},
     "output_type": "execute_result"
    }
   ],
   "source": [
    "# Adding column with the percentage of the cumulative sum over the store revenue \n",
    "\n",
    "customers['percent_cumul_sum'] = customers.apply(lambda row: \n",
    "                                     round(row.cumul_sum / revenue,3)*100, axis=1)\n",
    "customers.sort_values(\n",
    "    by='percent_cumul_sum')"
   ]
  },
  {
   "cell_type": "code",
   "execution_count": 50,
   "metadata": {},
   "outputs": [
    {
     "data": {
      "text/plain": [
       "user_id              5.914266e+08\n",
       "total_revenue        6.270000e+01\n",
       "cumul_sum            7.453941e+05\n",
       "percent_cumul_sum    8.080000e+01\n",
       "Name: 3400, dtype: float64"
      ]
     },
     "execution_count": 50,
     "metadata": {},
     "output_type": "execute_result"
    }
   ],
   "source": [
    "customers.iloc[3400]"
   ]
  },
  {
   "cell_type": "code",
   "execution_count": 51,
   "metadata": {},
   "outputs": [
    {
     "name": "stdout",
     "output_type": "stream",
     "text": [
      "The 23.0 percent of the users provides approximately the 80 percent of the store revenue.\n"
     ]
    }
   ],
   "source": [
    "print('The', round((3400/14811),2)*100,'percent of the users provides approximately the 80 percent of the store revenue.')"
   ]
  },
  {
   "cell_type": "code",
   "execution_count": 1,
   "metadata": {},
   "outputs": [
    {
     "ename": "NameError",
     "evalue": "name 'plt' is not defined",
     "output_type": "error",
     "traceback": [
      "\u001b[0;31m---------------------------------------------------------------------------\u001b[0m",
      "\u001b[0;31mNameError\u001b[0m                                 Traceback (most recent call last)",
      "\u001b[0;32m<ipython-input-1-c3d29aa4a318>\u001b[0m in \u001b[0;36m<module>\u001b[0;34m\u001b[0m\n\u001b[0;32m----> 1\u001b[0;31m \u001b[0mfig\u001b[0m\u001b[0;34m,\u001b[0m \u001b[0max\u001b[0m \u001b[0;34m=\u001b[0m \u001b[0mplt\u001b[0m\u001b[0;34m.\u001b[0m\u001b[0msubplots\u001b[0m\u001b[0;34m(\u001b[0m\u001b[0;34m)\u001b[0m\u001b[0;34m\u001b[0m\u001b[0;34m\u001b[0m\u001b[0m\n\u001b[0m\u001b[1;32m      2\u001b[0m \u001b[0max\u001b[0m\u001b[0;34m.\u001b[0m\u001b[0mbar\u001b[0m\u001b[0;34m(\u001b[0m\u001b[0mcustomers\u001b[0m\u001b[0;34m.\u001b[0m\u001b[0mindex\u001b[0m\u001b[0;34m,\u001b[0m \u001b[0mcustomers\u001b[0m\u001b[0;34m[\u001b[0m\u001b[0;34m\"total_revenue\"\u001b[0m\u001b[0;34m]\u001b[0m\u001b[0;34m,\u001b[0m \u001b[0mcolor\u001b[0m\u001b[0;34m=\u001b[0m\u001b[0;34m\"C4\"\u001b[0m\u001b[0;34m)\u001b[0m\u001b[0;34m\u001b[0m\u001b[0;34m\u001b[0m\u001b[0m\n\u001b[1;32m      3\u001b[0m \u001b[0max2\u001b[0m \u001b[0;34m=\u001b[0m \u001b[0max\u001b[0m\u001b[0;34m.\u001b[0m\u001b[0mtwinx\u001b[0m\u001b[0;34m(\u001b[0m\u001b[0;34m)\u001b[0m\u001b[0;34m\u001b[0m\u001b[0;34m\u001b[0m\u001b[0m\n\u001b[1;32m      4\u001b[0m \u001b[0max2\u001b[0m\u001b[0;34m.\u001b[0m\u001b[0mplot\u001b[0m\u001b[0;34m(\u001b[0m\u001b[0mcustomers\u001b[0m\u001b[0;34m.\u001b[0m\u001b[0mindex\u001b[0m\u001b[0;34m,\u001b[0m \u001b[0mcustomers\u001b[0m\u001b[0;34m[\u001b[0m\u001b[0;34m\"percent_cumul_sum\"\u001b[0m\u001b[0;34m]\u001b[0m\u001b[0;34m,\u001b[0m \u001b[0mcolor\u001b[0m\u001b[0;34m=\u001b[0m\u001b[0;34m\"C1\"\u001b[0m\u001b[0;34m,\u001b[0m \u001b[0mms\u001b[0m\u001b[0;34m=\u001b[0m\u001b[0;36m7\u001b[0m\u001b[0;34m)\u001b[0m\u001b[0;34m\u001b[0m\u001b[0;34m\u001b[0m\u001b[0m\n\u001b[1;32m      5\u001b[0m \u001b[0;34m\u001b[0m\u001b[0m\n",
      "\u001b[0;31mNameError\u001b[0m: name 'plt' is not defined"
     ]
    }
   ],
   "source": [
    "fig, ax = plt.subplots()\n",
    "ax.bar(customers.index, customers[\"total_revenue\"], color=\"C4\")\n",
    "ax2 = ax.twinx()\n",
    "ax2.plot(customers.index, customers[\"percent_cumul_sum\"], color=\"C1\", ms=7)\n",
    "\n",
    "plt.title('Pareto plot')\n",
    "plt.xlabel('Users')\n",
    "plt.ylabel('Percentage of store revenue')\n",
    "ax.tick_params(axis=\"y\", colors=\"C4\")\n",
    "ax2.tick_params(axis=\"y\", colors=\"C1\")\n",
    "plt.show()"
   ]
  },
  {
   "cell_type": "markdown",
   "metadata": {},
   "source": [
    "### RQ1"
   ]
  },
  {
   "cell_type": "markdown",
   "metadata": {},
   "source": [
    "#### Plot average operation"
   ]
  },
  {
   "cell_type": "code",
   "execution_count": 6,
   "metadata": {},
   "outputs": [
    {
     "data": {
      "text/plain": [
       "array(['view', 'cart', 'remove_from_cart', 'purchase'], dtype=object)"
      ]
     },
     "execution_count": 6,
     "metadata": {},
     "output_type": "execute_result"
    }
   ],
   "source": [
    "df['event_type'].unique()"
   ]
  },
  {
   "cell_type": "code",
   "execution_count": 14,
   "metadata": {},
   "outputs": [
    {
     "data": {
      "text/html": [
       "<div>\n",
       "<style scoped>\n",
       "    .dataframe tbody tr th:only-of-type {\n",
       "        vertical-align: middle;\n",
       "    }\n",
       "\n",
       "    .dataframe tbody tr th {\n",
       "        vertical-align: top;\n",
       "    }\n",
       "\n",
       "    .dataframe thead th {\n",
       "        text-align: right;\n",
       "    }\n",
       "</style>\n",
       "<table border=\"1\" class=\"dataframe\">\n",
       "  <thead>\n",
       "    <tr style=\"text-align: right;\">\n",
       "      <th></th>\n",
       "      <th>event_type</th>\n",
       "      <th>number_of_events</th>\n",
       "    </tr>\n",
       "  </thead>\n",
       "  <tbody>\n",
       "    <tr>\n",
       "      <th>0</th>\n",
       "      <td>cart</td>\n",
       "      <td>27024</td>\n",
       "    </tr>\n",
       "    <tr>\n",
       "      <th>1</th>\n",
       "      <td>purchase</td>\n",
       "      <td>4225</td>\n",
       "    </tr>\n",
       "    <tr>\n",
       "      <th>2</th>\n",
       "      <td>remove_from_cart</td>\n",
       "      <td>20339</td>\n",
       "    </tr>\n",
       "    <tr>\n",
       "      <th>3</th>\n",
       "      <td>view</td>\n",
       "      <td>48412</td>\n",
       "    </tr>\n",
       "  </tbody>\n",
       "</table>\n",
       "</div>"
      ],
      "text/plain": [
       "         event_type  number_of_events\n",
       "0              cart             27024\n",
       "1          purchase              4225\n",
       "2  remove_from_cart             20339\n",
       "3              view             48412"
      ]
     },
     "execution_count": 14,
     "metadata": {},
     "output_type": "execute_result"
    }
   ],
   "source": [
    "event_series = df.groupby('event_type').event_type.count().to_frame('number_of_events').reset_index()\n",
    "event_series"
   ]
  },
  {
   "cell_type": "code",
   "execution_count": 15,
   "metadata": {},
   "outputs": [
    {
     "data": {
      "text/plain": [
       "event_time       37172\n",
       "event_type           1\n",
       "product_id       13783\n",
       "category_id        389\n",
       "category_code        9\n",
       "brand              211\n",
       "price             1405\n",
       "user_id          14171\n",
       "user_session     21555\n",
       "dtype: int64"
      ]
     },
     "execution_count": 15,
     "metadata": {},
     "output_type": "execute_result"
    }
   ],
   "source": [
    "df[df.event_type=='view'].nunique()"
   ]
  },
  {
   "cell_type": "code",
   "execution_count": 19,
   "metadata": {},
   "outputs": [
    {
     "data": {
      "text/html": [
       "<div>\n",
       "<style scoped>\n",
       "    .dataframe tbody tr th:only-of-type {\n",
       "        vertical-align: middle;\n",
       "    }\n",
       "\n",
       "    .dataframe tbody tr th {\n",
       "        vertical-align: top;\n",
       "    }\n",
       "\n",
       "    .dataframe thead th {\n",
       "        text-align: right;\n",
       "    }\n",
       "</style>\n",
       "<table border=\"1\" class=\"dataframe\">\n",
       "  <thead>\n",
       "    <tr style=\"text-align: right;\">\n",
       "      <th></th>\n",
       "      <th>event_type</th>\n",
       "      <th>number_of_events</th>\n",
       "      <th>avg_events</th>\n",
       "    </tr>\n",
       "  </thead>\n",
       "  <tbody>\n",
       "    <tr>\n",
       "      <th>0</th>\n",
       "      <td>cart</td>\n",
       "      <td>27024</td>\n",
       "      <td>1.186616</td>\n",
       "    </tr>\n",
       "    <tr>\n",
       "      <th>1</th>\n",
       "      <td>purchase</td>\n",
       "      <td>4225</td>\n",
       "      <td>0.185519</td>\n",
       "    </tr>\n",
       "    <tr>\n",
       "      <th>2</th>\n",
       "      <td>remove_from_cart</td>\n",
       "      <td>20339</td>\n",
       "      <td>0.893080</td>\n",
       "    </tr>\n",
       "    <tr>\n",
       "      <th>3</th>\n",
       "      <td>view</td>\n",
       "      <td>48412</td>\n",
       "      <td>2.125757</td>\n",
       "    </tr>\n",
       "  </tbody>\n",
       "</table>\n",
       "</div>"
      ],
      "text/plain": [
       "         event_type  number_of_events  avg_events\n",
       "0              cart             27024    1.186616\n",
       "1          purchase              4225    0.185519\n",
       "2  remove_from_cart             20339    0.893080\n",
       "3              view             48412    2.125757"
      ]
     },
     "execution_count": 19,
     "metadata": {},
     "output_type": "execute_result"
    }
   ],
   "source": [
    "n = df['user_session'].nunique()\n",
    "event_series['avg_events'] = event_series.apply(lambda row: row.number_of_events /n, axis=1)\n",
    "event_series"
   ]
  },
  {
   "cell_type": "code",
   "execution_count": 27,
   "metadata": {},
   "outputs": [],
   "source": [
    "avg_views=event_series['view']/len(df[df.event_type=='view']['user_session'].unique())\n",
    "avg_remove=event_series['remove_from_cart']/len(df[df.event_type=='remove_from_cart']['user_session'].unique())\n",
    "avg_cart=event_series['cart']/len(df[df.event_type=='cart']['user_session'].unique())\n",
    "avg_purchase=event_series['purchase']/len(df[df.event_type=='purchase']['user_session'].unique())"
   ]
  },
  {
   "cell_type": "code",
   "execution_count": 21,
   "metadata": {},
   "outputs": [
    {
     "data": {
      "image/png": "[encoded data removed]",
      "text/plain": [
       "<Figure size 1296x648 with 1 Axes>"
      ]
     },
     "metadata": {
      "needs_background": "light"
     },
     "output_type": "display_data"
    }
   ],
   "source": [
    "fig = plt.figure(figsize=(18,9))\n",
    "plot = sns.barplot(x='event_type', y='avg_events', data=event_series)"
   ]
  },
  {
   "cell_type": "markdown",
   "metadata": {},
   "source": [
    "#### Probability cart and bought"
   ]
  },
  {
   "cell_type": "markdown",
   "metadata": {},
   "source": [
    "We want to compute the probability by evaluating $$ P=\\frac{\\#\\text{cart}}{\\#\\text{cart and bought}}$$"
   ]
  },
  {
   "cell_type": "code",
   "execution_count": 51,
   "metadata": {},
   "outputs": [
    {
     "data": {
      "text/html": [
       "<div>\n",
       "<style scoped>\n",
       "    .dataframe tbody tr th:only-of-type {\n",
       "        vertical-align: middle;\n",
       "    }\n",
       "\n",
       "    .dataframe tbody tr th {\n",
       "        vertical-align: top;\n",
       "    }\n",
       "\n",
       "    .dataframe thead th {\n",
       "        text-align: right;\n",
       "    }\n",
       "</style>\n",
       "<table border=\"1\" class=\"dataframe\">\n",
       "  <thead>\n",
       "    <tr style=\"text-align: right;\">\n",
       "      <th></th>\n",
       "      <th>product_id</th>\n",
       "      <th>event_time</th>\n",
       "      <th>event_type</th>\n",
       "      <th>category_id</th>\n",
       "      <th>category_code</th>\n",
       "      <th>brand</th>\n",
       "      <th>price</th>\n",
       "      <th>user_id</th>\n",
       "      <th>user_session</th>\n",
       "    </tr>\n",
       "  </thead>\n",
       "  <tbody>\n",
       "    <tr>\n",
       "      <th>0</th>\n",
       "      <td>5802440</td>\n",
       "      <td>2020-01-01 00:06:07+00:00</td>\n",
       "      <td>purchase</td>\n",
       "      <td>2151191070908613477</td>\n",
       "      <td>NaN</td>\n",
       "      <td>NaN</td>\n",
       "      <td>2.16</td>\n",
       "      <td>595411904</td>\n",
       "      <td>74ca1cd5-5381-4ffe-b00b-a258b390db77</td>\n",
       "    </tr>\n",
       "    <tr>\n",
       "      <th>1</th>\n",
       "      <td>5802440</td>\n",
       "      <td>2020-01-01 06:52:17+00:00</td>\n",
       "      <td>purchase</td>\n",
       "      <td>2151191070908613477</td>\n",
       "      <td>NaN</td>\n",
       "      <td>NaN</td>\n",
       "      <td>2.16</td>\n",
       "      <td>560164151</td>\n",
       "      <td>5ed2cd64-c9f0-47c8-b3cb-b0a61ad9e7cf</td>\n",
       "    </tr>\n",
       "    <tr>\n",
       "      <th>2</th>\n",
       "      <td>5802440</td>\n",
       "      <td>2020-01-01 07:19:23+00:00</td>\n",
       "      <td>purchase</td>\n",
       "      <td>2151191070908613477</td>\n",
       "      <td>NaN</td>\n",
       "      <td>NaN</td>\n",
       "      <td>2.16</td>\n",
       "      <td>595349995</td>\n",
       "      <td>692ee07f-dbb2-4576-bd8b-02f3d6d27b22</td>\n",
       "    </tr>\n",
       "    <tr>\n",
       "      <th>3</th>\n",
       "      <td>5802440</td>\n",
       "      <td>2020-01-01 00:06:07+00:00</td>\n",
       "      <td>purchase</td>\n",
       "      <td>2151191070908613477</td>\n",
       "      <td>NaN</td>\n",
       "      <td>NaN</td>\n",
       "      <td>2.16</td>\n",
       "      <td>595411904</td>\n",
       "      <td>74ca1cd5-5381-4ffe-b00b-a258b390db77</td>\n",
       "    </tr>\n",
       "    <tr>\n",
       "      <th>4</th>\n",
       "      <td>5802440</td>\n",
       "      <td>2020-01-01 06:52:17+00:00</td>\n",
       "      <td>purchase</td>\n",
       "      <td>2151191070908613477</td>\n",
       "      <td>NaN</td>\n",
       "      <td>NaN</td>\n",
       "      <td>2.16</td>\n",
       "      <td>560164151</td>\n",
       "      <td>5ed2cd64-c9f0-47c8-b3cb-b0a61ad9e7cf</td>\n",
       "    </tr>\n",
       "    <tr>\n",
       "      <th>...</th>\n",
       "      <td>...</td>\n",
       "      <td>...</td>\n",
       "      <td>...</td>\n",
       "      <td>...</td>\n",
       "      <td>...</td>\n",
       "      <td>...</td>\n",
       "      <td>...</td>\n",
       "      <td>...</td>\n",
       "      <td>...</td>\n",
       "    </tr>\n",
       "    <tr>\n",
       "      <th>50059</th>\n",
       "      <td>5858222</td>\n",
       "      <td>2020-01-02 08:39:09+00:00</td>\n",
       "      <td>purchase</td>\n",
       "      <td>1487580005511725929</td>\n",
       "      <td>NaN</td>\n",
       "      <td>NaN</td>\n",
       "      <td>5.56</td>\n",
       "      <td>386491215</td>\n",
       "      <td>167a38da-d55b-48c5-8462-7e1e7bda9acc</td>\n",
       "    </tr>\n",
       "    <tr>\n",
       "      <th>50060</th>\n",
       "      <td>5900636</td>\n",
       "      <td>2020-01-02 08:53:59+00:00</td>\n",
       "      <td>purchase</td>\n",
       "      <td>1487580007675986893</td>\n",
       "      <td>NaN</td>\n",
       "      <td>freedecor</td>\n",
       "      <td>0.79</td>\n",
       "      <td>546292576</td>\n",
       "      <td>72755e98-a0f6-4be9-bd34-2e27f2343110</td>\n",
       "    </tr>\n",
       "    <tr>\n",
       "      <th>50061</th>\n",
       "      <td>5823277</td>\n",
       "      <td>2020-01-02 08:47:43+00:00</td>\n",
       "      <td>purchase</td>\n",
       "      <td>1487580012096782476</td>\n",
       "      <td>NaN</td>\n",
       "      <td>runail</td>\n",
       "      <td>3.17</td>\n",
       "      <td>587620685</td>\n",
       "      <td>92a1a0ef-08d5-48ab-8ef1-f74c4874b3cc</td>\n",
       "    </tr>\n",
       "    <tr>\n",
       "      <th>50062</th>\n",
       "      <td>5875557</td>\n",
       "      <td>2020-01-01 10:08:37+00:00</td>\n",
       "      <td>purchase</td>\n",
       "      <td>2084144451428549153</td>\n",
       "      <td>NaN</td>\n",
       "      <td>NaN</td>\n",
       "      <td>2.05</td>\n",
       "      <td>590617508</td>\n",
       "      <td>cbac70af-c7c8-4dfb-9060-702f0ba3e08a</td>\n",
       "    </tr>\n",
       "    <tr>\n",
       "      <th>50063</th>\n",
       "      <td>5790474</td>\n",
       "      <td>2020-01-02 08:53:48+00:00</td>\n",
       "      <td>purchase</td>\n",
       "      <td>1783999072332415142</td>\n",
       "      <td>NaN</td>\n",
       "      <td>NaN</td>\n",
       "      <td>6.19</td>\n",
       "      <td>452434223</td>\n",
       "      <td>45922b5a-100f-4827-b7b7-619c43445c54</td>\n",
       "    </tr>\n",
       "  </tbody>\n",
       "</table>\n",
       "<p>50064 rows × 9 columns</p>\n",
       "</div>"
      ],
      "text/plain": [
       "       product_id                event_time event_type          category_id  \\\n",
       "0         5802440 2020-01-01 00:06:07+00:00   purchase  2151191070908613477   \n",
       "1         5802440 2020-01-01 06:52:17+00:00   purchase  2151191070908613477   \n",
       "2         5802440 2020-01-01 07:19:23+00:00   purchase  2151191070908613477   \n",
       "3         5802440 2020-01-01 00:06:07+00:00   purchase  2151191070908613477   \n",
       "4         5802440 2020-01-01 06:52:17+00:00   purchase  2151191070908613477   \n",
       "...           ...                       ...        ...                  ...   \n",
       "50059     5858222 2020-01-02 08:39:09+00:00   purchase  1487580005511725929   \n",
       "50060     5900636 2020-01-02 08:53:59+00:00   purchase  1487580007675986893   \n",
       "50061     5823277 2020-01-02 08:47:43+00:00   purchase  1487580012096782476   \n",
       "50062     5875557 2020-01-01 10:08:37+00:00   purchase  2084144451428549153   \n",
       "50063     5790474 2020-01-02 08:53:48+00:00   purchase  1783999072332415142   \n",
       "\n",
       "      category_code      brand  price    user_id  \\\n",
       "0               NaN        NaN   2.16  595411904   \n",
       "1               NaN        NaN   2.16  560164151   \n",
       "2               NaN        NaN   2.16  595349995   \n",
       "3               NaN        NaN   2.16  595411904   \n",
       "4               NaN        NaN   2.16  560164151   \n",
       "...             ...        ...    ...        ...   \n",
       "50059           NaN        NaN   5.56  386491215   \n",
       "50060           NaN  freedecor   0.79  546292576   \n",
       "50061           NaN     runail   3.17  587620685   \n",
       "50062           NaN        NaN   2.05  590617508   \n",
       "50063           NaN        NaN   6.19  452434223   \n",
       "\n",
       "                               user_session  \n",
       "0      74ca1cd5-5381-4ffe-b00b-a258b390db77  \n",
       "1      5ed2cd64-c9f0-47c8-b3cb-b0a61ad9e7cf  \n",
       "2      692ee07f-dbb2-4576-bd8b-02f3d6d27b22  \n",
       "3      74ca1cd5-5381-4ffe-b00b-a258b390db77  \n",
       "4      5ed2cd64-c9f0-47c8-b3cb-b0a61ad9e7cf  \n",
       "...                                     ...  \n",
       "50059  167a38da-d55b-48c5-8462-7e1e7bda9acc  \n",
       "50060  72755e98-a0f6-4be9-bd34-2e27f2343110  \n",
       "50061  92a1a0ef-08d5-48ab-8ef1-f74c4874b3cc  \n",
       "50062  cbac70af-c7c8-4dfb-9060-702f0ba3e08a  \n",
       "50063  45922b5a-100f-4827-b7b7-619c43445c54  \n",
       "\n",
       "[50064 rows x 9 columns]"
      ]
     },
     "execution_count": 51,
     "metadata": {},
     "output_type": "execute_result"
    }
   ],
   "source": [
    "cart_and_bought = df[df.event_type == 'cart']['product_id'].to_frame().merge(df[df.event_type == 'purchase'], \n",
    "                                            on = 'product_id')\n",
    "cart_and_bought.drop(df[])"
   ]
  },
  {
   "cell_type": "code",
   "execution_count": null,
   "metadata": {},
   "outputs": [],
   "source": []
  },
  {
   "cell_type": "code",
   "execution_count": null,
   "metadata": {},
   "outputs": [],
   "source": []
  },
  {
   "cell_type": "code",
   "execution_count": null,
   "metadata": {},
   "outputs": [],
   "source": []
  },
  {
   "cell_type": "code",
   "execution_count": null,
   "metadata": {},
   "outputs": [],
   "source": []
  },
  {
   "cell_type": "code",
   "execution_count": null,
   "metadata": {},
   "outputs": [],
   "source": []
  },
  {
   "cell_type": "code",
   "execution_count": null,
   "metadata": {},
   "outputs": [],
   "source": []
  },
  {
   "cell_type": "code",
   "execution_count": null,
   "metadata": {},
   "outputs": [],
   "source": []
  }
 ],
 "metadata": {
  "kernelspec": {
   "display_name": "Python 3",
   "language": "python",
   "name": "python3"
  },
  "language_info": {
   "codemirror_mode": {
    "name": "ipython",
    "version": 3
   },
   "file_extension": ".py",
   "mimetype": "text/x-python",
   "name": "python",
   "nbconvert_exporter": "python",
   "pygments_lexer": "ipython3",
   "version": "3.8.5"
  }
 },
 "nbformat": 4,
 "nbformat_minor": 4
}
