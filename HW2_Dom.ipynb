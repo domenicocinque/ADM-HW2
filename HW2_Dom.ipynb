{
 "cells": [
  {
   "cell_type": "code",
   "execution_count": 1,
   "metadata": {},
   "outputs": [],
   "source": [
    "import pandas as pd\n",
    "df = pd.read_csv('~/Desktop/Datasets/2020-Jan.csv', header = 'infer', \n",
    "                parse_dates = ['event_time'], \n",
    "                 date_parser = pd.to_datetime, nrows=300000)"
   ]
  },
  {
   "cell_type": "markdown",
   "metadata": {},
   "source": [
    "# RQ6"
   ]
  },
  {
   "cell_type": "code",
   "execution_count": 10,
   "metadata": {},
   "outputs": [],
   "source": [
    "# Creating subsets\n",
    "\n",
    "views = df[df.event_type == 'view']\n",
    "purchases = df[df.event_type == 'purchase']"
   ]
  },
  {
   "cell_type": "code",
   "execution_count": 11,
   "metadata": {},
   "outputs": [
    {
     "name": "stdout",
     "output_type": "stream",
     "text": [
      "The overall conversion rate is: 0.098\n"
     ]
    }
   ],
   "source": [
    "# Conversion rate = number of purchases / number of views\n",
    "\n",
    "CR = purchases['product_id'].count() / views['product_id'].count()\n",
    "print('The overall conversion rate is:', round(CR,3))"
   ]
  },
  {
   "cell_type": "markdown",
   "metadata": {},
   "source": [
    "### Categories method 1"
   ]
  },
  {
   "cell_type": "code",
   "execution_count": 12,
   "metadata": {},
   "outputs": [
    {
     "data": {
      "text/plain": [
       "array([nan, 'accessories.bag', 'stationery.cartrige',\n",
       "       'appliances.environment.vacuum', 'apparel.glove',\n",
       "       'appliances.personal.hair_cutter', 'furniture.living_room.cabinet',\n",
       "       'accessories.cosmetic_bag', 'furniture.bathroom.bath',\n",
       "       'appliances.environment.air_conditioner'], dtype=object)"
      ]
     },
     "execution_count": 12,
     "metadata": {},
     "output_type": "execute_result"
    }
   ],
   "source": [
    "# Finding categories\n",
    "\n",
    "df['category_code'].unique()"
   ]
  },
  {
   "cell_type": "markdown",
   "metadata": {},
   "source": [
    "The general categories are at the beginning of these strings (e.g. in `accessories.bag` we only need `accessories`), so we need to extract the category names"
   ]
  },
  {
   "cell_type": "code",
   "execution_count": 18,
   "metadata": {},
   "outputs": [],
   "source": [
    "# Adjusting categories \n",
    "\n",
    "def fun(x):\n",
    "    return str(x).split('.')[0]\n",
    "\n",
    "df_categories[\"category\"]=df_categories[\"category_code\"].apply(fun)"
   ]
  },
  {
   "cell_type": "code",
   "execution_count": 19,
   "metadata": {},
   "outputs": [
    {
     "data": {
      "text/plain": [
       "array(['nan', 'accessories', 'stationery', 'appliances', 'apparel',\n",
       "       'furniture'], dtype=object)"
      ]
     },
     "execution_count": 19,
     "metadata": {},
     "output_type": "execute_result"
    }
   ],
   "source": [
    "df_categories['category'].unique()"
   ]
  },
  {
   "cell_type": "code",
   "execution_count": 20,
   "metadata": {},
   "outputs": [],
   "source": [
    "# Now we create again the subsets to include the new column ONLY NOT NAN\n",
    "\n",
    "df_categories = df_categories[df_categories.category != 'nan']\n",
    "views = df_categories[df_categories.event_type == 'view']\n",
    "purchases = df_categories[df_categories.event_type == 'purchase']"
   ]
  },
  {
   "cell_type": "code",
   "execution_count": 24,
   "metadata": {},
   "outputs": [
    {
     "data": {
      "text/plain": [
       "array(['accessories', 'stationery', 'appliances', 'apparel', 'furniture'],\n",
       "      dtype=object)"
      ]
     },
     "execution_count": 24,
     "metadata": {},
     "output_type": "execute_result"
    }
   ],
   "source": [
    "df_categories['category'].unique()"
   ]
  },
  {
   "cell_type": "code",
   "execution_count": 25,
   "metadata": {},
   "outputs": [
    {
     "data": {
      "text/html": [
       "<div>\n",
       "<style scoped>\n",
       "    .dataframe tbody tr th:only-of-type {\n",
       "        vertical-align: middle;\n",
       "    }\n",
       "\n",
       "    .dataframe tbody tr th {\n",
       "        vertical-align: top;\n",
       "    }\n",
       "\n",
       "    .dataframe thead th {\n",
       "        text-align: right;\n",
       "    }\n",
       "</style>\n",
       "<table border=\"1\" class=\"dataframe\">\n",
       "  <thead>\n",
       "    <tr style=\"text-align: right;\">\n",
       "      <th></th>\n",
       "      <th>category</th>\n",
       "      <th>purchases_number</th>\n",
       "    </tr>\n",
       "  </thead>\n",
       "  <tbody>\n",
       "    <tr>\n",
       "      <th>0</th>\n",
       "      <td>accessories</td>\n",
       "      <td>6</td>\n",
       "    </tr>\n",
       "    <tr>\n",
       "      <th>1</th>\n",
       "      <td>apparel</td>\n",
       "      <td>67</td>\n",
       "    </tr>\n",
       "    <tr>\n",
       "      <th>2</th>\n",
       "      <td>appliances</td>\n",
       "      <td>51</td>\n",
       "    </tr>\n",
       "    <tr>\n",
       "      <th>3</th>\n",
       "      <td>furniture</td>\n",
       "      <td>18</td>\n",
       "    </tr>\n",
       "    <tr>\n",
       "      <th>4</th>\n",
       "      <td>stationery</td>\n",
       "      <td>65</td>\n",
       "    </tr>\n",
       "  </tbody>\n",
       "</table>\n",
       "</div>"
      ],
      "text/plain": [
       "      category  purchases_number\n",
       "0  accessories                 6\n",
       "1      apparel                67\n",
       "2   appliances                51\n",
       "3    furniture                18\n",
       "4   stationery                65"
      ]
     },
     "execution_count": 25,
     "metadata": {},
     "output_type": "execute_result"
    }
   ],
   "source": [
    "# Finding number of purchases for each category\n",
    "\n",
    "d1 = purchases.groupby('category').event_type.count().reset_index().rename(columns =\n",
    "                                                    {'event_type':'purchases_number'})\n",
    "d1"
   ]
  },
  {
   "cell_type": "code",
   "execution_count": 26,
   "metadata": {},
   "outputs": [],
   "source": [
    "# Finding number of views for each category\n",
    "\n",
    "d2 = views.groupby('category').event_type.count().reset_index().rename(columns =\n",
    "                                                    {'event_type':'views_number'})"
   ]
  },
  {
   "cell_type": "code",
   "execution_count": 27,
   "metadata": {},
   "outputs": [
    {
     "data": {
      "text/html": [
       "<div>\n",
       "<style scoped>\n",
       "    .dataframe tbody tr th:only-of-type {\n",
       "        vertical-align: middle;\n",
       "    }\n",
       "\n",
       "    .dataframe tbody tr th {\n",
       "        vertical-align: top;\n",
       "    }\n",
       "\n",
       "    .dataframe thead th {\n",
       "        text-align: right;\n",
       "    }\n",
       "</style>\n",
       "<table border=\"1\" class=\"dataframe\">\n",
       "  <thead>\n",
       "    <tr style=\"text-align: right;\">\n",
       "      <th></th>\n",
       "      <th>category</th>\n",
       "      <th>purchases_number</th>\n",
       "      <th>views_number</th>\n",
       "    </tr>\n",
       "  </thead>\n",
       "  <tbody>\n",
       "    <tr>\n",
       "      <th>0</th>\n",
       "      <td>accessories</td>\n",
       "      <td>6</td>\n",
       "      <td>347</td>\n",
       "    </tr>\n",
       "    <tr>\n",
       "      <th>1</th>\n",
       "      <td>apparel</td>\n",
       "      <td>67</td>\n",
       "      <td>320</td>\n",
       "    </tr>\n",
       "    <tr>\n",
       "      <th>2</th>\n",
       "      <td>appliances</td>\n",
       "      <td>51</td>\n",
       "      <td>1841</td>\n",
       "    </tr>\n",
       "    <tr>\n",
       "      <th>3</th>\n",
       "      <td>furniture</td>\n",
       "      <td>18</td>\n",
       "      <td>501</td>\n",
       "    </tr>\n",
       "    <tr>\n",
       "      <th>4</th>\n",
       "      <td>stationery</td>\n",
       "      <td>65</td>\n",
       "      <td>243</td>\n",
       "    </tr>\n",
       "  </tbody>\n",
       "</table>\n",
       "</div>"
      ],
      "text/plain": [
       "      category  purchases_number  views_number\n",
       "0  accessories                 6           347\n",
       "1      apparel                67           320\n",
       "2   appliances                51          1841\n",
       "3    furniture                18           501\n",
       "4   stationery                65           243"
      ]
     },
     "execution_count": 27,
     "metadata": {},
     "output_type": "execute_result"
    }
   ],
   "source": [
    "# Joining dataframes in order to have the number of purchases and views for each category\n",
    "\n",
    "dout = d1.merge(d2, on = 'category')\n",
    "dout"
   ]
  },
  {
   "cell_type": "code",
   "execution_count": 28,
   "metadata": {},
   "outputs": [],
   "source": [
    "# Adding a third column that is a combination of the other two in order to find the c.r.\n",
    "\n",
    "dout['conversion_rate'] = dout.apply(lambda row: \n",
    "                                     row.purchases_number / row.views_number, axis=1)"
   ]
  },
  {
   "cell_type": "markdown",
   "metadata": {},
   "source": [
    "I'm assuming that the purchase rate is the number of purchases for each category. "
   ]
  },
  {
   "cell_type": "code",
   "execution_count": 29,
   "metadata": {},
   "outputs": [
    {
     "data": {
      "image/png": "[encoded data removed]",
      "text/plain": [
       "<Figure size 1296x648 with 1 Axes>"
      ]
     },
     "metadata": {
      "needs_background": "light"
     },
     "output_type": "display_data"
    }
   ],
   "source": [
    "import seaborn as sns\n",
    "import matplotlib.pyplot as plt\n",
    "\n",
    "fig = plt.figure(figsize=(18,9))\n",
    "plot = sns.barplot(x='category', y='purchases_number', data=dout)"
   ]
  },
  {
   "cell_type": "code",
   "execution_count": 25,
   "metadata": {},
   "outputs": [
    {
     "data": {
      "text/html": [
       "<div>\n",
       "<style scoped>\n",
       "    .dataframe tbody tr th:only-of-type {\n",
       "        vertical-align: middle;\n",
       "    }\n",
       "\n",
       "    .dataframe tbody tr th {\n",
       "        vertical-align: top;\n",
       "    }\n",
       "\n",
       "    .dataframe thead th {\n",
       "        text-align: right;\n",
       "    }\n",
       "</style>\n",
       "<table border=\"1\" class=\"dataframe\">\n",
       "  <thead>\n",
       "    <tr style=\"text-align: right;\">\n",
       "      <th></th>\n",
       "      <th>category</th>\n",
       "      <th>purchases_number</th>\n",
       "      <th>views_number</th>\n",
       "      <th>conversion_rate</th>\n",
       "    </tr>\n",
       "  </thead>\n",
       "  <tbody>\n",
       "    <tr>\n",
       "      <th>4</th>\n",
       "      <td>stationery</td>\n",
       "      <td>65</td>\n",
       "      <td>243</td>\n",
       "      <td>0.267490</td>\n",
       "    </tr>\n",
       "    <tr>\n",
       "      <th>1</th>\n",
       "      <td>apparel</td>\n",
       "      <td>67</td>\n",
       "      <td>320</td>\n",
       "      <td>0.209375</td>\n",
       "    </tr>\n",
       "    <tr>\n",
       "      <th>3</th>\n",
       "      <td>furniture</td>\n",
       "      <td>18</td>\n",
       "      <td>501</td>\n",
       "      <td>0.035928</td>\n",
       "    </tr>\n",
       "    <tr>\n",
       "      <th>2</th>\n",
       "      <td>appliances</td>\n",
       "      <td>51</td>\n",
       "      <td>1841</td>\n",
       "      <td>0.027702</td>\n",
       "    </tr>\n",
       "    <tr>\n",
       "      <th>0</th>\n",
       "      <td>accessories</td>\n",
       "      <td>6</td>\n",
       "      <td>347</td>\n",
       "      <td>0.017291</td>\n",
       "    </tr>\n",
       "  </tbody>\n",
       "</table>\n",
       "</div>"
      ],
      "text/plain": [
       "      category  purchases_number  views_number  conversion_rate\n",
       "4   stationery                65           243         0.267490\n",
       "1      apparel                67           320         0.209375\n",
       "3    furniture                18           501         0.035928\n",
       "2   appliances                51          1841         0.027702\n",
       "0  accessories                 6           347         0.017291"
      ]
     },
     "execution_count": 25,
     "metadata": {},
     "output_type": "execute_result"
    }
   ],
   "source": [
    "# Sorting values\n",
    "\n",
    "dout.sort_values(by='conversion_rate', ascending = False)"
   ]
  },
  {
   "cell_type": "markdown",
   "metadata": {},
   "source": [
    "### Categories method 2"
   ]
  },
  {
   "cell_type": "code",
   "execution_count": null,
   "metadata": {},
   "outputs": [],
   "source": []
  },
  {
   "cell_type": "markdown",
   "metadata": {},
   "source": [
    "# RQ7"
   ]
  },
  {
   "cell_type": "code",
   "execution_count": 26,
   "metadata": {},
   "outputs": [
    {
     "data": {
      "text/html": [
       "<div>\n",
       "<style scoped>\n",
       "    .dataframe tbody tr th:only-of-type {\n",
       "        vertical-align: middle;\n",
       "    }\n",
       "\n",
       "    .dataframe tbody tr th {\n",
       "        vertical-align: top;\n",
       "    }\n",
       "\n",
       "    .dataframe thead th {\n",
       "        text-align: right;\n",
       "    }\n",
       "</style>\n",
       "<table border=\"1\" class=\"dataframe\">\n",
       "  <thead>\n",
       "    <tr style=\"text-align: right;\">\n",
       "      <th></th>\n",
       "      <th>user_id</th>\n",
       "      <th>total_revenue</th>\n",
       "    </tr>\n",
       "  </thead>\n",
       "  <tbody>\n",
       "    <tr>\n",
       "      <th>0</th>\n",
       "      <td>373989853</td>\n",
       "      <td>136623.61</td>\n",
       "    </tr>\n",
       "    <tr>\n",
       "      <th>1</th>\n",
       "      <td>568233448</td>\n",
       "      <td>19152.54</td>\n",
       "    </tr>\n",
       "    <tr>\n",
       "      <th>2</th>\n",
       "      <td>523985247</td>\n",
       "      <td>6795.37</td>\n",
       "    </tr>\n",
       "    <tr>\n",
       "      <th>3</th>\n",
       "      <td>571953566</td>\n",
       "      <td>5764.92</td>\n",
       "    </tr>\n",
       "    <tr>\n",
       "      <th>4</th>\n",
       "      <td>595861471</td>\n",
       "      <td>5093.23</td>\n",
       "    </tr>\n",
       "    <tr>\n",
       "      <th>...</th>\n",
       "      <td>...</td>\n",
       "      <td>...</td>\n",
       "    </tr>\n",
       "    <tr>\n",
       "      <th>38921</th>\n",
       "      <td>595809918</td>\n",
       "      <td>0.00</td>\n",
       "    </tr>\n",
       "    <tr>\n",
       "      <th>38922</th>\n",
       "      <td>595471775</td>\n",
       "      <td>0.00</td>\n",
       "    </tr>\n",
       "    <tr>\n",
       "      <th>38923</th>\n",
       "      <td>595531690</td>\n",
       "      <td>0.00</td>\n",
       "    </tr>\n",
       "    <tr>\n",
       "      <th>38924</th>\n",
       "      <td>596496918</td>\n",
       "      <td>0.00</td>\n",
       "    </tr>\n",
       "    <tr>\n",
       "      <th>38925</th>\n",
       "      <td>596080034</td>\n",
       "      <td>0.00</td>\n",
       "    </tr>\n",
       "  </tbody>\n",
       "</table>\n",
       "<p>38926 rows × 2 columns</p>\n",
       "</div>"
      ],
      "text/plain": [
       "         user_id  total_revenue\n",
       "0      373989853      136623.61\n",
       "1      568233448       19152.54\n",
       "2      523985247        6795.37\n",
       "3      571953566        5764.92\n",
       "4      595861471        5093.23\n",
       "...          ...            ...\n",
       "38921  595809918           0.00\n",
       "38922  595471775           0.00\n",
       "38923  595531690           0.00\n",
       "38924  596496918           0.00\n",
       "38925  596080034           0.00\n",
       "\n",
       "[38926 rows x 2 columns]"
      ]
     },
     "execution_count": 26,
     "metadata": {},
     "output_type": "execute_result"
    }
   ],
   "source": [
    "# Grouping customers and computing total revenue (amount of money spent) for each one \n",
    "\n",
    "customers = df.groupby('user_id').price.sum().to_frame('total_revenue').sort_values(\n",
    "    by='total_revenue', ascending = False).reset_index()\n",
    "customers"
   ]
  },
  {
   "cell_type": "code",
   "execution_count": 27,
   "metadata": {},
   "outputs": [
    {
     "data": {
      "text/html": [
       "<div>\n",
       "<style scoped>\n",
       "    .dataframe tbody tr th:only-of-type {\n",
       "        vertical-align: middle;\n",
       "    }\n",
       "\n",
       "    .dataframe tbody tr th {\n",
       "        vertical-align: top;\n",
       "    }\n",
       "\n",
       "    .dataframe thead th {\n",
       "        text-align: right;\n",
       "    }\n",
       "</style>\n",
       "<table border=\"1\" class=\"dataframe\">\n",
       "  <thead>\n",
       "    <tr style=\"text-align: right;\">\n",
       "      <th></th>\n",
       "      <th>user_id</th>\n",
       "      <th>total_revenue</th>\n",
       "      <th>cumul_sum</th>\n",
       "    </tr>\n",
       "  </thead>\n",
       "  <tbody>\n",
       "    <tr>\n",
       "      <th>0</th>\n",
       "      <td>373989853</td>\n",
       "      <td>136623.61</td>\n",
       "      <td>136623.61</td>\n",
       "    </tr>\n",
       "    <tr>\n",
       "      <th>1</th>\n",
       "      <td>568233448</td>\n",
       "      <td>19152.54</td>\n",
       "      <td>155776.15</td>\n",
       "    </tr>\n",
       "    <tr>\n",
       "      <th>2</th>\n",
       "      <td>523985247</td>\n",
       "      <td>6795.37</td>\n",
       "      <td>162571.52</td>\n",
       "    </tr>\n",
       "    <tr>\n",
       "      <th>3</th>\n",
       "      <td>571953566</td>\n",
       "      <td>5764.92</td>\n",
       "      <td>168336.44</td>\n",
       "    </tr>\n",
       "    <tr>\n",
       "      <th>4</th>\n",
       "      <td>595861471</td>\n",
       "      <td>5093.23</td>\n",
       "      <td>173429.67</td>\n",
       "    </tr>\n",
       "    <tr>\n",
       "      <th>...</th>\n",
       "      <td>...</td>\n",
       "      <td>...</td>\n",
       "      <td>...</td>\n",
       "    </tr>\n",
       "    <tr>\n",
       "      <th>38921</th>\n",
       "      <td>595809918</td>\n",
       "      <td>0.00</td>\n",
       "      <td>2864219.77</td>\n",
       "    </tr>\n",
       "    <tr>\n",
       "      <th>38922</th>\n",
       "      <td>595471775</td>\n",
       "      <td>0.00</td>\n",
       "      <td>2864219.77</td>\n",
       "    </tr>\n",
       "    <tr>\n",
       "      <th>38923</th>\n",
       "      <td>595531690</td>\n",
       "      <td>0.00</td>\n",
       "      <td>2864219.77</td>\n",
       "    </tr>\n",
       "    <tr>\n",
       "      <th>38924</th>\n",
       "      <td>596496918</td>\n",
       "      <td>0.00</td>\n",
       "      <td>2864219.77</td>\n",
       "    </tr>\n",
       "    <tr>\n",
       "      <th>38925</th>\n",
       "      <td>596080034</td>\n",
       "      <td>0.00</td>\n",
       "      <td>2864219.77</td>\n",
       "    </tr>\n",
       "  </tbody>\n",
       "</table>\n",
       "<p>38926 rows × 3 columns</p>\n",
       "</div>"
      ],
      "text/plain": [
       "         user_id  total_revenue   cumul_sum\n",
       "0      373989853      136623.61   136623.61\n",
       "1      568233448       19152.54   155776.15\n",
       "2      523985247        6795.37   162571.52\n",
       "3      571953566        5764.92   168336.44\n",
       "4      595861471        5093.23   173429.67\n",
       "...          ...            ...         ...\n",
       "38921  595809918           0.00  2864219.77\n",
       "38922  595471775           0.00  2864219.77\n",
       "38923  595531690           0.00  2864219.77\n",
       "38924  596496918           0.00  2864219.77\n",
       "38925  596080034           0.00  2864219.77\n",
       "\n",
       "[38926 rows x 3 columns]"
      ]
     },
     "execution_count": 27,
     "metadata": {},
     "output_type": "execute_result"
    }
   ],
   "source": [
    "# Adding column with cumulative sum : cumul_sum[i] = cumul_sum[i-i] \n",
    "\n",
    "revenue = customers['total_revenue'].sum()\n",
    "customers['cumul_sum'] = customers['total_revenue'].cumsum()\n",
    "customers"
   ]
  },
  {
   "cell_type": "code",
   "execution_count": 30,
   "metadata": {},
   "outputs": [
    {
     "data": {
      "text/html": [
       "<div>\n",
       "<style scoped>\n",
       "    .dataframe tbody tr th:only-of-type {\n",
       "        vertical-align: middle;\n",
       "    }\n",
       "\n",
       "    .dataframe tbody tr th {\n",
       "        vertical-align: top;\n",
       "    }\n",
       "\n",
       "    .dataframe thead th {\n",
       "        text-align: right;\n",
       "    }\n",
       "</style>\n",
       "<table border=\"1\" class=\"dataframe\">\n",
       "  <thead>\n",
       "    <tr style=\"text-align: right;\">\n",
       "      <th></th>\n",
       "      <th>user_id</th>\n",
       "      <th>total_revenue</th>\n",
       "      <th>cumul_sum</th>\n",
       "      <th>percent_cumul_sum</th>\n",
       "    </tr>\n",
       "  </thead>\n",
       "  <tbody>\n",
       "    <tr>\n",
       "      <th>0</th>\n",
       "      <td>373989853</td>\n",
       "      <td>136623.61</td>\n",
       "      <td>136623.61</td>\n",
       "      <td>4.77</td>\n",
       "    </tr>\n",
       "    <tr>\n",
       "      <th>1</th>\n",
       "      <td>568233448</td>\n",
       "      <td>19152.54</td>\n",
       "      <td>155776.15</td>\n",
       "      <td>5.44</td>\n",
       "    </tr>\n",
       "    <tr>\n",
       "      <th>2</th>\n",
       "      <td>523985247</td>\n",
       "      <td>6795.37</td>\n",
       "      <td>162571.52</td>\n",
       "      <td>5.68</td>\n",
       "    </tr>\n",
       "    <tr>\n",
       "      <th>3</th>\n",
       "      <td>571953566</td>\n",
       "      <td>5764.92</td>\n",
       "      <td>168336.44</td>\n",
       "      <td>5.88</td>\n",
       "    </tr>\n",
       "    <tr>\n",
       "      <th>4</th>\n",
       "      <td>595861471</td>\n",
       "      <td>5093.23</td>\n",
       "      <td>173429.67</td>\n",
       "      <td>6.06</td>\n",
       "    </tr>\n",
       "  </tbody>\n",
       "</table>\n",
       "</div>"
      ],
      "text/plain": [
       "     user_id  total_revenue  cumul_sum  percent_cumul_sum\n",
       "0  373989853      136623.61  136623.61               4.77\n",
       "1  568233448       19152.54  155776.15               5.44\n",
       "2  523985247        6795.37  162571.52               5.68\n",
       "3  571953566        5764.92  168336.44               5.88\n",
       "4  595861471        5093.23  173429.67               6.06"
      ]
     },
     "execution_count": 30,
     "metadata": {},
     "output_type": "execute_result"
    }
   ],
   "source": [
    "# Adding column with the percentage of the cumulative sum over the store revenue \n",
    "\n",
    "customers['percent_cumul_sum'] = customers.apply(lambda row: \n",
    "                                     round(row.cumul_sum / revenue,4)*100, axis=1)\n",
    "customers.head()"
   ]
  },
  {
   "cell_type": "code",
   "execution_count": 42,
   "metadata": {},
   "outputs": [
    {
     "name": "stdout",
     "output_type": "stream",
     "text": [
      "The 19.8 percent of the users provides approximately the 80 percent of the store revenue.\n"
     ]
    }
   ],
   "source": [
    "print('The', round((customers[customers['percent_cumul_sum'] >= 80].index[0]/len(customers)),3)*100,'percent of the users provides approximately the 80 percent of the store revenue.')"
   ]
  },
  {
   "cell_type": "code",
   "execution_count": 44,
   "metadata": {},
   "outputs": [
    {
     "name": "stderr",
     "output_type": "stream",
     "text": [
      "No handles with labels found to put in legend.\n"
     ]
    },
    {
     "data": {
      "image/png": "[encoded data removed]",
      "text/plain": [
       "<Figure size 432x288 with 2 Axes>"
      ]
     },
     "metadata": {},
     "output_type": "display_data"
    }
   ],
   "source": [
    "# DA AGGIUSTARE!\n",
    "\n",
    "fig, ax = plt.subplots()\n",
    "ax.bar(customers.index, customers[\"total_revenue\"], color=\"C4\")\n",
    "ax2 = ax.twinx()\n",
    "ax2.plot(customers.index, customers[\"percent_cumul_sum\"], color=\"C1\", ms=7)\n",
    "\n",
    "plt.legend()\n",
    "plt.title('Pareto plot')\n",
    "plt.xlabel('Users')\n",
    "plt.ylabel('Percentage of store revenue')\n",
    "ax.tick_params(axis=\"y\", colors=\"C4\")\n",
    "ax2.tick_params(axis=\"y\", colors=\"C1\")\n",
    "plt.show()"
   ]
  },
  {
   "cell_type": "markdown",
   "metadata": {},
   "source": [
    "# RQ1"
   ]
  },
  {
   "cell_type": "markdown",
   "metadata": {},
   "source": [
    "#### Plot average operation"
   ]
  },
  {
   "cell_type": "code",
   "execution_count": 6,
   "metadata": {},
   "outputs": [
    {
     "data": {
      "text/plain": [
       "array(['view', 'cart', 'remove_from_cart', 'purchase'], dtype=object)"
      ]
     },
     "execution_count": 6,
     "metadata": {},
     "output_type": "execute_result"
    }
   ],
   "source": [
    "df['event_type'].unique()"
   ]
  },
  {
   "cell_type": "code",
   "execution_count": 14,
   "metadata": {},
   "outputs": [
    {
     "data": {
      "text/html": [
       "<div>\n",
       "<style scoped>\n",
       "    .dataframe tbody tr th:only-of-type {\n",
       "        vertical-align: middle;\n",
       "    }\n",
       "\n",
       "    .dataframe tbody tr th {\n",
       "        vertical-align: top;\n",
       "    }\n",
       "\n",
       "    .dataframe thead th {\n",
       "        text-align: right;\n",
       "    }\n",
       "</style>\n",
       "<table border=\"1\" class=\"dataframe\">\n",
       "  <thead>\n",
       "    <tr style=\"text-align: right;\">\n",
       "      <th></th>\n",
       "      <th>event_type</th>\n",
       "      <th>number_of_events</th>\n",
       "    </tr>\n",
       "  </thead>\n",
       "  <tbody>\n",
       "    <tr>\n",
       "      <th>0</th>\n",
       "      <td>cart</td>\n",
       "      <td>27024</td>\n",
       "    </tr>\n",
       "    <tr>\n",
       "      <th>1</th>\n",
       "      <td>purchase</td>\n",
       "      <td>4225</td>\n",
       "    </tr>\n",
       "    <tr>\n",
       "      <th>2</th>\n",
       "      <td>remove_from_cart</td>\n",
       "      <td>20339</td>\n",
       "    </tr>\n",
       "    <tr>\n",
       "      <th>3</th>\n",
       "      <td>view</td>\n",
       "      <td>48412</td>\n",
       "    </tr>\n",
       "  </tbody>\n",
       "</table>\n",
       "</div>"
      ],
      "text/plain": [
       "         event_type  number_of_events\n",
       "0              cart             27024\n",
       "1          purchase              4225\n",
       "2  remove_from_cart             20339\n",
       "3              view             48412"
      ]
     },
     "execution_count": 14,
     "metadata": {},
     "output_type": "execute_result"
    }
   ],
   "source": [
    "event_series = df.groupby('event_type').event_type.count().to_frame('number_of_events').reset_index()\n",
    "event_series"
   ]
  },
  {
   "cell_type": "code",
   "execution_count": 15,
   "metadata": {},
   "outputs": [
    {
     "data": {
      "text/plain": [
       "event_time       37172\n",
       "event_type           1\n",
       "product_id       13783\n",
       "category_id        389\n",
       "category_code        9\n",
       "brand              211\n",
       "price             1405\n",
       "user_id          14171\n",
       "user_session     21555\n",
       "dtype: int64"
      ]
     },
     "execution_count": 15,
     "metadata": {},
     "output_type": "execute_result"
    }
   ],
   "source": [
    "df[df.event_type=='view'].nunique()"
   ]
  },
  {
   "cell_type": "code",
   "execution_count": 19,
   "metadata": {},
   "outputs": [
    {
     "data": {
      "text/html": [
       "<div>\n",
       "<style scoped>\n",
       "    .dataframe tbody tr th:only-of-type {\n",
       "        vertical-align: middle;\n",
       "    }\n",
       "\n",
       "    .dataframe tbody tr th {\n",
       "        vertical-align: top;\n",
       "    }\n",
       "\n",
       "    .dataframe thead th {\n",
       "        text-align: right;\n",
       "    }\n",
       "</style>\n",
       "<table border=\"1\" class=\"dataframe\">\n",
       "  <thead>\n",
       "    <tr style=\"text-align: right;\">\n",
       "      <th></th>\n",
       "      <th>event_type</th>\n",
       "      <th>number_of_events</th>\n",
       "      <th>avg_events</th>\n",
       "    </tr>\n",
       "  </thead>\n",
       "  <tbody>\n",
       "    <tr>\n",
       "      <th>0</th>\n",
       "      <td>cart</td>\n",
       "      <td>27024</td>\n",
       "      <td>1.186616</td>\n",
       "    </tr>\n",
       "    <tr>\n",
       "      <th>1</th>\n",
       "      <td>purchase</td>\n",
       "      <td>4225</td>\n",
       "      <td>0.185519</td>\n",
       "    </tr>\n",
       "    <tr>\n",
       "      <th>2</th>\n",
       "      <td>remove_from_cart</td>\n",
       "      <td>20339</td>\n",
       "      <td>0.893080</td>\n",
       "    </tr>\n",
       "    <tr>\n",
       "      <th>3</th>\n",
       "      <td>view</td>\n",
       "      <td>48412</td>\n",
       "      <td>2.125757</td>\n",
       "    </tr>\n",
       "  </tbody>\n",
       "</table>\n",
       "</div>"
      ],
      "text/plain": [
       "         event_type  number_of_events  avg_events\n",
       "0              cart             27024    1.186616\n",
       "1          purchase              4225    0.185519\n",
       "2  remove_from_cart             20339    0.893080\n",
       "3              view             48412    2.125757"
      ]
     },
     "execution_count": 19,
     "metadata": {},
     "output_type": "execute_result"
    }
   ],
   "source": [
    "n = df['user_session'].nunique()\n",
    "event_series['avg_events'] = event_series.apply(lambda row: row.number_of_events /n, axis=1)\n",
    "event_series"
   ]
  },
  {
   "cell_type": "code",
   "execution_count": 27,
   "metadata": {},
   "outputs": [],
   "source": [
    "avg_views=event_series['view']/len(df[df.event_type=='view']['user_session'].unique())\n",
    "avg_remove=event_series['remove_from_cart']/len(df[df.event_type=='remove_from_cart']['user_session'].unique())\n",
    "avg_cart=event_series['cart']/len(df[df.event_type=='cart']['user_session'].unique())\n",
    "avg_purchase=event_series['purchase']/len(df[df.event_type=='purchase']['user_session'].unique())"
   ]
  },
  {
   "cell_type": "code",
   "execution_count": 21,
   "metadata": {},
   "outputs": [
    {
     "data": {
      "image/png": "[encoded data removed]",
      "text/plain": [
       "<Figure size 1296x648 with 1 Axes>"
      ]
     },
     "metadata": {
      "needs_background": "light"
     },
     "output_type": "display_data"
    }
   ],
   "source": [
    "fig = plt.figure(figsize=(18,9))\n",
    "plot = sns.barplot(x='event_type', y='avg_events', data=event_series)"
   ]
  },
  {
   "cell_type": "markdown",
   "metadata": {},
   "source": [
    "#### Probability cart and bought"
   ]
  },
  {
   "cell_type": "markdown",
   "metadata": {},
   "source": [
    "We want to compute the probability by evaluating $$ P=\\frac{\\#\\text{cart}}{\\#\\text{cart and bought}}$$"
   ]
  },
  {
   "cell_type": "code",
   "execution_count": 51,
   "metadata": {},
   "outputs": [
    {
     "data": {
      "text/html": [
       "<div>\n",
       "<style scoped>\n",
       "    .dataframe tbody tr th:only-of-type {\n",
       "        vertical-align: middle;\n",
       "    }\n",
       "\n",
       "    .dataframe tbody tr th {\n",
       "        vertical-align: top;\n",
       "    }\n",
       "\n",
       "    .dataframe thead th {\n",
       "        text-align: right;\n",
       "    }\n",
       "</style>\n",
       "<table border=\"1\" class=\"dataframe\">\n",
       "  <thead>\n",
       "    <tr style=\"text-align: right;\">\n",
       "      <th></th>\n",
       "      <th>product_id</th>\n",
       "      <th>event_time</th>\n",
       "      <th>event_type</th>\n",
       "      <th>category_id</th>\n",
       "      <th>category_code</th>\n",
       "      <th>brand</th>\n",
       "      <th>price</th>\n",
       "      <th>user_id</th>\n",
       "      <th>user_session</th>\n",
       "    </tr>\n",
       "  </thead>\n",
       "  <tbody>\n",
       "    <tr>\n",
       "      <th>0</th>\n",
       "      <td>5802440</td>\n",
       "      <td>2020-01-01 00:06:07+00:00</td>\n",
       "      <td>purchase</td>\n",
       "      <td>2151191070908613477</td>\n",
       "      <td>NaN</td>\n",
       "      <td>NaN</td>\n",
       "      <td>2.16</td>\n",
       "      <td>595411904</td>\n",
       "      <td>74ca1cd5-5381-4ffe-b00b-a258b390db77</td>\n",
       "    </tr>\n",
       "    <tr>\n",
       "      <th>1</th>\n",
       "      <td>5802440</td>\n",
       "      <td>2020-01-01 06:52:17+00:00</td>\n",
       "      <td>purchase</td>\n",
       "      <td>2151191070908613477</td>\n",
       "      <td>NaN</td>\n",
       "      <td>NaN</td>\n",
       "      <td>2.16</td>\n",
       "      <td>560164151</td>\n",
       "      <td>5ed2cd64-c9f0-47c8-b3cb-b0a61ad9e7cf</td>\n",
       "    </tr>\n",
       "    <tr>\n",
       "      <th>2</th>\n",
       "      <td>5802440</td>\n",
       "      <td>2020-01-01 07:19:23+00:00</td>\n",
       "      <td>purchase</td>\n",
       "      <td>2151191070908613477</td>\n",
       "      <td>NaN</td>\n",
       "      <td>NaN</td>\n",
       "      <td>2.16</td>\n",
       "      <td>595349995</td>\n",
       "      <td>692ee07f-dbb2-4576-bd8b-02f3d6d27b22</td>\n",
       "    </tr>\n",
       "    <tr>\n",
       "      <th>3</th>\n",
       "      <td>5802440</td>\n",
       "      <td>2020-01-01 00:06:07+00:00</td>\n",
       "      <td>purchase</td>\n",
       "      <td>2151191070908613477</td>\n",
       "      <td>NaN</td>\n",
       "      <td>NaN</td>\n",
       "      <td>2.16</td>\n",
       "      <td>595411904</td>\n",
       "      <td>74ca1cd5-5381-4ffe-b00b-a258b390db77</td>\n",
       "    </tr>\n",
       "    <tr>\n",
       "      <th>4</th>\n",
       "      <td>5802440</td>\n",
       "      <td>2020-01-01 06:52:17+00:00</td>\n",
       "      <td>purchase</td>\n",
       "      <td>2151191070908613477</td>\n",
       "      <td>NaN</td>\n",
       "      <td>NaN</td>\n",
       "      <td>2.16</td>\n",
       "      <td>560164151</td>\n",
       "      <td>5ed2cd64-c9f0-47c8-b3cb-b0a61ad9e7cf</td>\n",
       "    </tr>\n",
       "    <tr>\n",
       "      <th>...</th>\n",
       "      <td>...</td>\n",
       "      <td>...</td>\n",
       "      <td>...</td>\n",
       "      <td>...</td>\n",
       "      <td>...</td>\n",
       "      <td>...</td>\n",
       "      <td>...</td>\n",
       "      <td>...</td>\n",
       "      <td>...</td>\n",
       "    </tr>\n",
       "    <tr>\n",
       "      <th>50059</th>\n",
       "      <td>5858222</td>\n",
       "      <td>2020-01-02 08:39:09+00:00</td>\n",
       "      <td>purchase</td>\n",
       "      <td>1487580005511725929</td>\n",
       "      <td>NaN</td>\n",
       "      <td>NaN</td>\n",
       "      <td>5.56</td>\n",
       "      <td>386491215</td>\n",
       "      <td>167a38da-d55b-48c5-8462-7e1e7bda9acc</td>\n",
       "    </tr>\n",
       "    <tr>\n",
       "      <th>50060</th>\n",
       "      <td>5900636</td>\n",
       "      <td>2020-01-02 08:53:59+00:00</td>\n",
       "      <td>purchase</td>\n",
       "      <td>1487580007675986893</td>\n",
       "      <td>NaN</td>\n",
       "      <td>freedecor</td>\n",
       "      <td>0.79</td>\n",
       "      <td>546292576</td>\n",
       "      <td>72755e98-a0f6-4be9-bd34-2e27f2343110</td>\n",
       "    </tr>\n",
       "    <tr>\n",
       "      <th>50061</th>\n",
       "      <td>5823277</td>\n",
       "      <td>2020-01-02 08:47:43+00:00</td>\n",
       "      <td>purchase</td>\n",
       "      <td>1487580012096782476</td>\n",
       "      <td>NaN</td>\n",
       "      <td>runail</td>\n",
       "      <td>3.17</td>\n",
       "      <td>587620685</td>\n",
       "      <td>92a1a0ef-08d5-48ab-8ef1-f74c4874b3cc</td>\n",
       "    </tr>\n",
       "    <tr>\n",
       "      <th>50062</th>\n",
       "      <td>5875557</td>\n",
       "      <td>2020-01-01 10:08:37+00:00</td>\n",
       "      <td>purchase</td>\n",
       "      <td>2084144451428549153</td>\n",
       "      <td>NaN</td>\n",
       "      <td>NaN</td>\n",
       "      <td>2.05</td>\n",
       "      <td>590617508</td>\n",
       "      <td>cbac70af-c7c8-4dfb-9060-702f0ba3e08a</td>\n",
       "    </tr>\n",
       "    <tr>\n",
       "      <th>50063</th>\n",
       "      <td>5790474</td>\n",
       "      <td>2020-01-02 08:53:48+00:00</td>\n",
       "      <td>purchase</td>\n",
       "      <td>1783999072332415142</td>\n",
       "      <td>NaN</td>\n",
       "      <td>NaN</td>\n",
       "      <td>6.19</td>\n",
       "      <td>452434223</td>\n",
       "      <td>45922b5a-100f-4827-b7b7-619c43445c54</td>\n",
       "    </tr>\n",
       "  </tbody>\n",
       "</table>\n",
       "<p>50064 rows × 9 columns</p>\n",
       "</div>"
      ],
      "text/plain": [
       "       product_id                event_time event_type          category_id  \\\n",
       "0         5802440 2020-01-01 00:06:07+00:00   purchase  2151191070908613477   \n",
       "1         5802440 2020-01-01 06:52:17+00:00   purchase  2151191070908613477   \n",
       "2         5802440 2020-01-01 07:19:23+00:00   purchase  2151191070908613477   \n",
       "3         5802440 2020-01-01 00:06:07+00:00   purchase  2151191070908613477   \n",
       "4         5802440 2020-01-01 06:52:17+00:00   purchase  2151191070908613477   \n",
       "...           ...                       ...        ...                  ...   \n",
       "50059     5858222 2020-01-02 08:39:09+00:00   purchase  1487580005511725929   \n",
       "50060     5900636 2020-01-02 08:53:59+00:00   purchase  1487580007675986893   \n",
       "50061     5823277 2020-01-02 08:47:43+00:00   purchase  1487580012096782476   \n",
       "50062     5875557 2020-01-01 10:08:37+00:00   purchase  2084144451428549153   \n",
       "50063     5790474 2020-01-02 08:53:48+00:00   purchase  1783999072332415142   \n",
       "\n",
       "      category_code      brand  price    user_id  \\\n",
       "0               NaN        NaN   2.16  595411904   \n",
       "1               NaN        NaN   2.16  560164151   \n",
       "2               NaN        NaN   2.16  595349995   \n",
       "3               NaN        NaN   2.16  595411904   \n",
       "4               NaN        NaN   2.16  560164151   \n",
       "...             ...        ...    ...        ...   \n",
       "50059           NaN        NaN   5.56  386491215   \n",
       "50060           NaN  freedecor   0.79  546292576   \n",
       "50061           NaN     runail   3.17  587620685   \n",
       "50062           NaN        NaN   2.05  590617508   \n",
       "50063           NaN        NaN   6.19  452434223   \n",
       "\n",
       "                               user_session  \n",
       "0      74ca1cd5-5381-4ffe-b00b-a258b390db77  \n",
       "1      5ed2cd64-c9f0-47c8-b3cb-b0a61ad9e7cf  \n",
       "2      692ee07f-dbb2-4576-bd8b-02f3d6d27b22  \n",
       "3      74ca1cd5-5381-4ffe-b00b-a258b390db77  \n",
       "4      5ed2cd64-c9f0-47c8-b3cb-b0a61ad9e7cf  \n",
       "...                                     ...  \n",
       "50059  167a38da-d55b-48c5-8462-7e1e7bda9acc  \n",
       "50060  72755e98-a0f6-4be9-bd34-2e27f2343110  \n",
       "50061  92a1a0ef-08d5-48ab-8ef1-f74c4874b3cc  \n",
       "50062  cbac70af-c7c8-4dfb-9060-702f0ba3e08a  \n",
       "50063  45922b5a-100f-4827-b7b7-619c43445c54  \n",
       "\n",
       "[50064 rows x 9 columns]"
      ]
     },
     "execution_count": 51,
     "metadata": {},
     "output_type": "execute_result"
    }
   ],
   "source": [
    "cart_and_bought = df[df.event_type == 'cart']['product_id'].to_frame().merge(df[df.event_type == 'purchase'], \n",
    "                                            on = 'product_id')\n",
    "cart_and_bought.drop(df[])"
   ]
  },
  {
   "cell_type": "code",
   "execution_count": 26,
   "metadata": {},
   "outputs": [
    {
     "data": {
      "text/plain": [
       "category_id          product_id\n",
       "1487580004807082827  5916194        1\n",
       "1487580004832248652  5706113        1\n",
       "                     5706136        1\n",
       "                     5706141        4\n",
       "                     5706303        2\n",
       "                                   ..\n",
       "2235524494015856752  5898238        2\n",
       "2235524499636224267  5844008        2\n",
       "                     5853033        1\n",
       "                     5861721       17\n",
       "                     5892739        1\n",
       "Name: event_type, Length: 18189, dtype: int64"
      ]
     },
     "execution_count": 26,
     "metadata": {},
     "output_type": "execute_result"
    }
   ],
   "source": [
    "df.groupby([\"category_id\",\"product_id\"])[\"event_type\"].count().reset_index()$\n"
   ]
  },
  {
   "cell_type": "code",
   "execution_count": null,
   "metadata": {},
   "outputs": [],
   "source": []
  },
  {
   "cell_type": "code",
   "execution_count": null,
   "metadata": {},
   "outputs": [],
   "source": []
  },
  {
   "cell_type": "code",
   "execution_count": null,
   "metadata": {},
   "outputs": [],
   "source": []
  },
  {
   "cell_type": "code",
   "execution_count": null,
   "metadata": {},
   "outputs": [],
   "source": []
  },
  {
   "cell_type": "code",
   "execution_count": null,
   "metadata": {},
   "outputs": [],
   "source": []
  },
  {
   "cell_type": "code",
   "execution_count": null,
   "metadata": {},
   "outputs": [],
   "source": []
  },
  {
   "cell_type": "code",
   "execution_count": null,
   "metadata": {},
   "outputs": [],
   "source": []
  },
  {
   "cell_type": "code",
   "execution_count": null,
   "metadata": {},
   "outputs": [],
   "source": []
  },
  {
   "cell_type": "code",
   "execution_count": null,
   "metadata": {},
   "outputs": [],
   "source": []
  },
  {
   "cell_type": "code",
   "execution_count": null,
   "metadata": {},
   "outputs": [],
   "source": []
  }
 ],
 "metadata": {
  "kernelspec": {
   "display_name": "Python 3",
   "language": "python",
   "name": "python3"
  },
  "language_info": {
   "codemirror_mode": {
    "name": "ipython",
    "version": 3
   },
   "file_extension": ".py",
   "mimetype": "text/x-python",
   "name": "python",
   "nbconvert_exporter": "python",
   "pygments_lexer": "ipython3",
   "version": "3.8.5"
  }
 },
 "nbformat": 4,
 "nbformat_minor": 4
}
