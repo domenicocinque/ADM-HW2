{
 "cells": [
  {
   "cell_type": "code",
   "execution_count": 1,
   "metadata": {},
   "outputs": [],
   "source": [
    "import pandas as pd\n",
    "import numpy as np\n",
    "import matplotlib.pyplot as plt"
   ]
  },
  {
   "cell_type": "code",
   "execution_count": 2,
   "metadata": {},
   "outputs": [],
   "source": [
    "df = pd.read_csv('C:/Users/manue/Desktop/2019-Nov.csv', header = 'infer')\n",
    "df['event_time'] = pd.to_datetime(df.event_time)"
   ]
  },
  {
   "cell_type": "code",
   "execution_count": 3,
   "metadata": {},
   "outputs": [],
   "source": [
    "# keep only 1 row per session\n",
    "\n",
    "unique_sessions = df.drop_duplicates(subset=['user_session'])"
   ]
  },
  {
   "cell_type": "code",
   "execution_count": 4,
   "metadata": {},
   "outputs": [
    {
     "data": {
      "text/html": [
       "<div>\n",
       "<style scoped>\n",
       "    .dataframe tbody tr th:only-of-type {\n",
       "        vertical-align: middle;\n",
       "    }\n",
       "\n",
       "    .dataframe tbody tr th {\n",
       "        vertical-align: top;\n",
       "    }\n",
       "\n",
       "    .dataframe thead th {\n",
       "        text-align: right;\n",
       "    }\n",
       "</style>\n",
       "<table border=\"1\" class=\"dataframe\">\n",
       "  <thead>\n",
       "    <tr style=\"text-align: right;\">\n",
       "      <th></th>\n",
       "      <th>hour</th>\n",
       "      <th>sessions_per_hour</th>\n",
       "    </tr>\n",
       "  </thead>\n",
       "  <tbody>\n",
       "    <tr>\n",
       "      <th>0</th>\n",
       "      <td>0</td>\n",
       "      <td>7877</td>\n",
       "    </tr>\n",
       "    <tr>\n",
       "      <th>1</th>\n",
       "      <td>1</td>\n",
       "      <td>7290</td>\n",
       "    </tr>\n",
       "    <tr>\n",
       "      <th>2</th>\n",
       "      <td>2</td>\n",
       "      <td>8406</td>\n",
       "    </tr>\n",
       "    <tr>\n",
       "      <th>3</th>\n",
       "      <td>3</td>\n",
       "      <td>11916</td>\n",
       "    </tr>\n",
       "    <tr>\n",
       "      <th>4</th>\n",
       "      <td>4</td>\n",
       "      <td>17877</td>\n",
       "    </tr>\n",
       "    <tr>\n",
       "      <th>5</th>\n",
       "      <td>5</td>\n",
       "      <td>28928</td>\n",
       "    </tr>\n",
       "    <tr>\n",
       "      <th>6</th>\n",
       "      <td>6</td>\n",
       "      <td>40331</td>\n",
       "    </tr>\n",
       "    <tr>\n",
       "      <th>7</th>\n",
       "      <td>7</td>\n",
       "      <td>48471</td>\n",
       "    </tr>\n",
       "    <tr>\n",
       "      <th>8</th>\n",
       "      <td>8</td>\n",
       "      <td>53937</td>\n",
       "    </tr>\n",
       "    <tr>\n",
       "      <th>9</th>\n",
       "      <td>9</td>\n",
       "      <td>55709</td>\n",
       "    </tr>\n",
       "    <tr>\n",
       "      <th>10</th>\n",
       "      <td>10</td>\n",
       "      <td>58705</td>\n",
       "    </tr>\n",
       "    <tr>\n",
       "      <th>11</th>\n",
       "      <td>11</td>\n",
       "      <td>59073</td>\n",
       "    </tr>\n",
       "    <tr>\n",
       "      <th>12</th>\n",
       "      <td>12</td>\n",
       "      <td>60079</td>\n",
       "    </tr>\n",
       "    <tr>\n",
       "      <th>13</th>\n",
       "      <td>13</td>\n",
       "      <td>54897</td>\n",
       "    </tr>\n",
       "    <tr>\n",
       "      <th>14</th>\n",
       "      <td>14</td>\n",
       "      <td>51453</td>\n",
       "    </tr>\n",
       "    <tr>\n",
       "      <th>15</th>\n",
       "      <td>15</td>\n",
       "      <td>50980</td>\n",
       "    </tr>\n",
       "    <tr>\n",
       "      <th>16</th>\n",
       "      <td>16</td>\n",
       "      <td>52025</td>\n",
       "    </tr>\n",
       "    <tr>\n",
       "      <th>17</th>\n",
       "      <td>17</td>\n",
       "      <td>54267</td>\n",
       "    </tr>\n",
       "    <tr>\n",
       "      <th>18</th>\n",
       "      <td>18</td>\n",
       "      <td>55038</td>\n",
       "    </tr>\n",
       "    <tr>\n",
       "      <th>19</th>\n",
       "      <td>19</td>\n",
       "      <td>54457</td>\n",
       "    </tr>\n",
       "    <tr>\n",
       "      <th>20</th>\n",
       "      <td>20</td>\n",
       "      <td>46180</td>\n",
       "    </tr>\n",
       "    <tr>\n",
       "      <th>21</th>\n",
       "      <td>21</td>\n",
       "      <td>31078</td>\n",
       "    </tr>\n",
       "    <tr>\n",
       "      <th>22</th>\n",
       "      <td>22</td>\n",
       "      <td>20627</td>\n",
       "    </tr>\n",
       "    <tr>\n",
       "      <th>23</th>\n",
       "      <td>23</td>\n",
       "      <td>12422</td>\n",
       "    </tr>\n",
       "  </tbody>\n",
       "</table>\n",
       "</div>"
      ],
      "text/plain": [
       "    hour  sessions_per_hour\n",
       "0      0               7877\n",
       "1      1               7290\n",
       "2      2               8406\n",
       "3      3              11916\n",
       "4      4              17877\n",
       "5      5              28928\n",
       "6      6              40331\n",
       "7      7              48471\n",
       "8      8              53937\n",
       "9      9              55709\n",
       "10    10              58705\n",
       "11    11              59073\n",
       "12    12              60079\n",
       "13    13              54897\n",
       "14    14              51453\n",
       "15    15              50980\n",
       "16    16              52025\n",
       "17    17              54267\n",
       "18    18              55038\n",
       "19    19              54457\n",
       "20    20              46180\n",
       "21    21              31078\n",
       "22    22              20627\n",
       "23    23              12422"
      ]
     },
     "execution_count": 4,
     "metadata": {},
     "output_type": "execute_result"
    }
   ],
   "source": [
    "# number of sessions per hour\n",
    "\n",
    "sessions_per_hour = pd.DataFrame(unique_sessions.groupby(by= unique_sessions.event_time.dt.hour, as_index= False)['event_type'].count()).reset_index()\n",
    "sessions_per_hour.rename(columns={'index':'hour', 'event_type': 'sessions_per_hour'}, inplace=True)\n",
    "sessions_per_hour"
   ]
  },
  {
   "cell_type": "code",
   "execution_count": 5,
   "metadata": {},
   "outputs": [
    {
     "data": {
      "image/png": "[encoded data removed]",
      "text/plain": [
       "<Figure size 576x288 with 1 Axes>"
      ]
     },
     "metadata": {
      "needs_background": "light"
     },
     "output_type": "display_data"
    }
   ],
   "source": [
    "# plot it\n",
    "\n",
    "fig = plt.figure()\n",
    "ax = fig.add_axes([0,0,1,1])\n",
    "ax.bar(sessions_per_hour.hour, sessions_per_hour.sessions_per_hour)\n",
    "fig.set_figheight(4)\n",
    "fig.set_figwidth(8)\n",
    "plt.title('Sessions per hour')\n",
    "plt.xticks(np.arange(0, 24, step=1))\n",
    "plt.xlabel('hour')\n",
    "plt.ylabel('# of sessions')\n",
    "plt.show()"
   ]
  },
  {
   "cell_type": "code",
   "execution_count": 6,
   "metadata": {},
   "outputs": [],
   "source": [
    "# number of sessions for each weekday\n",
    "\n",
    "sessions_per_weekday = unique_sessions.groupby(unique_sessions.event_time.dt.weekday)['event_time'].count()"
   ]
  },
  {
   "cell_type": "code",
   "execution_count": 7,
   "metadata": {},
   "outputs": [
    {
     "name": "stderr",
     "output_type": "stream",
     "text": [
      "C:\\Users\\manue\\Anaconda3\\lib\\site-packages\\ipykernel_launcher.py:4: SettingWithCopyWarning: \n",
      "A value is trying to be set on a copy of a slice from a DataFrame.\n",
      "Try using .loc[row_indexer,col_indexer] = value instead\n",
      "\n",
      "See the caveats in the documentation: http://pandas.pydata.org/pandas-docs/stable/indexing.html#indexing-view-versus-copy\n",
      "  after removing the cwd from sys.path.\n"
     ]
    }
   ],
   "source": [
    "# weekdays count\n",
    "\n",
    "unique_sessions2 = unique_sessions\n",
    "unique_sessions2['event_time'] = unique_sessions2['event_time'].apply(lambda x: x.replace(hour = 0, minute=0, second=0))\n",
    "unique_days = unique_sessions.drop_duplicates(subset = ['event_time'])\n",
    "weekday_count = unique_days.groupby(unique_days.event_time.dt.weekday)['event_type'].count()"
   ]
  },
  {
   "cell_type": "code",
   "execution_count": 10,
   "metadata": {},
   "outputs": [],
   "source": [
    "# avg sessions per hour for each weekday\n",
    "\n",
    "avg_sessions = sessions_per_weekday / weekday_count / 24"
   ]
  },
  {
   "cell_type": "code",
   "execution_count": 12,
   "metadata": {},
   "outputs": [
    {
     "data": {
      "image/png": "[encoded data removed]",
      "text/plain": [
       "<Figure size 432x288 with 1 Axes>"
      ]
     },
     "metadata": {
      "needs_background": "light"
     },
     "output_type": "display_data"
    }
   ],
   "source": [
    "# plot it\n",
    "\n",
    "WEEKDAYS = ['Monday', 'Tuesday', 'Wednesday', 'Thursday', 'Friday', 'Saturday', 'Sunday']\n",
    "\n",
    "fig = plt.figure()\n",
    "ax = fig.add_axes([0,0,1,1])\n",
    "ax.bar(WEEKDAYS, avg_sessions)\n",
    "plt.xlabel('weekday')\n",
    "plt.ylabel('average sessions per hour')\n",
    "plt.show()"
   ]
  },
  {
   "cell_type": "code",
   "execution_count": 13,
   "metadata": {},
   "outputs": [
    {
     "name": "stderr",
     "output_type": "stream",
     "text": [
      "C:\\Users\\manue\\Anaconda3\\lib\\site-packages\\ipykernel_launcher.py:22: SettingWithCopyWarning: \n",
      "A value is trying to be set on a copy of a slice from a DataFrame.\n",
      "Try using .loc[row_indexer,col_indexer] = value instead\n",
      "\n",
      "See the caveats in the documentation: http://pandas.pydata.org/pandas-docs/stable/indexing.html#indexing-view-versus-copy\n"
     ]
    },
    {
     "data": {
      "image/png": "[encoded data removed]",
      "text/plain": [
       "<Figure size 432x288 with 1 Axes>"
      ]
     },
     "metadata": {
      "needs_background": "light"
     },
     "output_type": "display_data"
    }
   ],
   "source": [
    "# average number of sessions per hour for each weekday\n",
    "\n",
    "WEEKDAYS = ['Monday', 'Tuesday', 'Wednesday', 'Thursday', 'Friday', 'Saturday', 'Sunday']\n",
    "\n",
    "sessions_per_weekday = np.asarray(unique_sessions.groupby(unique_sessions.event_time.dt.weekday)['event_type'].count())\n",
    "\n",
    "\n",
    "def get_weekday_count(weekday,df):\n",
    "    \"\"\" takes a weekday and a df, returns the number of times that weekday appears in the df\n",
    "    ------------------------\n",
    "    INPUTS:\n",
    "    \n",
    "    weekday : int from 0 to 6, where 0 is Monday and 6 is Sunday\n",
    "    df      : pandas DataFrame\n",
    "    \n",
    "    OUTPUT:\n",
    "    \n",
    "    int\n",
    "    \n",
    "    \"\"\"\n",
    "    df2 = df.loc[df.event_time.dt.weekday == weekday]\n",
    "    df2['event_time'] = df['event_time'].apply(lambda x: x.replace(hour=0, minute=0, second=0))\n",
    "    return len(df2['event_time'].unique())\n",
    "\n",
    "\n",
    "def hourly_avg_per_weekday(sessions_per_day):\n",
    "    \"\"\" takes a np array with numbers of sessions per weekday, applies weekday_count funct and returns the hourly average of sessions per weekday\n",
    "    ------------------------\n",
    "    INPUTS:\n",
    "    \n",
    "    sessions_per_day: 2D np.array of size 7\n",
    "    \n",
    "    OUTPUT:\n",
    "    \n",
    "    np.array of size 7\n",
    "    \n",
    "    \"\"\"\n",
    "    for i in range (7):\n",
    "        sessions_per_weekday[i] = sessions_per_weekday[i] / get_weekday_count(i,unique_sessions) / 24\n",
    "    return sessions_per_weekday\n",
    "\n",
    "hourly_avg = hourly_avg_per_weekday(sessions_per_weekday)\n",
    "fig = plt.figure()\n",
    "ax = fig.add_axes([0,0,1,1])\n",
    "ax.bar(WEEKDAYS, hourly_avg)\n",
    "plt.xlabel('weekday')\n",
    "plt.ylabel('average sessions per hour')\n",
    "plt.show()"
   ]
  },
  {
   "cell_type": "code",
   "execution_count": null,
   "metadata": {},
   "outputs": [],
   "source": []
  }
 ],
 "metadata": {
  "kernelspec": {
   "display_name": "Python 3",
   "language": "python",
   "name": "python3"
  },
  "language_info": {
   "codemirror_mode": {
    "name": "ipython",
    "version": 3
   },
   "file_extension": ".py",
   "mimetype": "text/x-python",
   "name": "python",
   "nbconvert_exporter": "python",
   "pygments_lexer": "ipython3",
   "version": "3.7.3"
  }
 },
 "nbformat": 4,
 "nbformat_minor": 2
}
